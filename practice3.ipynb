{
 "cells": [
  {
   "cell_type": "code",
   "execution_count": 15,
   "id": "53d2e561-3c2c-4ed5-8c11-0cd088e7c91a",
   "metadata": {},
   "outputs": [
    {
     "name": "stdout",
     "output_type": "stream",
     "text": [
      "9\n"
     ]
    }
   ],
   "source": [
    "n=\"shrinidhi\"\n",
    "\n",
    "def len(n):\n",
    "    count = 0\n",
    "    for char in n:\n",
    "        count += 1\n",
    "    return count\n",
    "print(len(n))"
   ]
  },
  {
   "cell_type": "code",
   "execution_count": 17,
   "id": "abe67d2f-36a5-4cd1-8298-e3f9119b7c46",
   "metadata": {},
   "outputs": [
    {
     "name": "stdout",
     "output_type": "stream",
     "text": [
      "Uppercase string: SHRINIDHI\n"
     ]
    }
   ],
   "source": [
    "n = \"shrinidhi\"\n",
    "\n",
    "def upper(n):\n",
    "    lower_to_upper = {\n",
    "        'a': 'A', 'b': 'B', 'c': 'C', 'd': 'D', 'e': 'E',\n",
    "        'f': 'F', 'g': 'G', 'h': 'H', 'i': 'I', 'j': 'J',\n",
    "        'k': 'K', 'l': 'L', 'm': 'M', 'n': 'N', 'o': 'O',\n",
    "        'p': 'P', 'q': 'Q', 'r': 'R', 's': 'S', 't': 'T',\n",
    "        'u': 'U', 'v': 'V', 'w': 'W', 'x': 'X', 'y': 'Y', 'z': 'Z'\n",
    "    }\n",
    "    result = \"\"\n",
    "    for char in n:\n",
    "        if char in lower_to_upper:\n",
    "            result += lower_to_upper[char]\n",
    "        else:\n",
    "            result += char\n",
    "    return result\n",
    "\n",
    "uppercase_string = upper(n)\n",
    "print(\"Uppercase string:\", uppercase_string)"
   ]
  },
  {
   "cell_type": "code",
   "execution_count": 31,
   "id": "e9febf83-2c90-4e86-b15b-20a30d54a7bd",
   "metadata": {},
   "outputs": [
    {
     "name": "stdin",
     "output_type": "stream",
     "text": [
      "Enter the number of terms:  6\n"
     ]
    },
    {
     "name": "stdout",
     "output_type": "stream",
     "text": [
      "011235"
     ]
    }
   ],
   "source": [
    "n = int(input(\"Enter the number of terms: \"))\n",
    "a,b=0,1\n",
    "count=0\n",
    "\n",
    "while count<n:\n",
    "    print(a, end=\"\")\n",
    "    c = a + b\n",
    "    a = b\n",
    "    b = c\n",
    "    count += 1"
   ]
  },
  {
   "cell_type": "code",
   "execution_count": 37,
   "id": "cadbd9c1-8d76-4b33-9df7-9488e78e226d",
   "metadata": {},
   "outputs": [
    {
     "name": "stdin",
     "output_type": "stream",
     "text": [
      "Enter the number of terms:  5\n"
     ]
    },
    {
     "name": "stdout",
     "output_type": "stream",
     "text": [
      " The factorial of 5 is: 120\n"
     ]
    }
   ],
   "source": [
    "n = int(input(\"Enter the number of terms: \"))\n",
    "fact=1\n",
    "i=1\n",
    "\n",
    "while i <= n:\n",
    "    fact *= i\n",
    "    i += 1\n",
    "print(f\" The factorial of {n} is: {fact}\")"
   ]
  },
  {
   "cell_type": "code",
   "execution_count": 39,
   "id": "503f8339-79db-4272-985a-5e1a57a57953",
   "metadata": {},
   "outputs": [
    {
     "name": "stdin",
     "output_type": "stream",
     "text": [
      "Enter the number of terms:  456\n"
     ]
    },
    {
     "name": "stdout",
     "output_type": "stream",
     "text": [
      "The sum of digits is: 15\n"
     ]
    }
   ],
   "source": [
    "n = int(input(\"Enter the number of terms: \"))\n",
    "sum=0\n",
    "\n",
    "while n>0:\n",
    "    digit = n % 10\n",
    "    sum += digit\n",
    "    n = n // 10\n",
    "\n",
    "print(f\"The sum of digits is: {sum}\")"
   ]
  },
  {
   "cell_type": "code",
   "execution_count": 45,
   "id": "4352e5fb-2f5a-4b72-9ee4-3721cf3c8ed5",
   "metadata": {},
   "outputs": [
    {
     "name": "stdin",
     "output_type": "stream",
     "text": [
      "Enter the number of terms:  4\n"
     ]
    },
    {
     "name": "stdout",
     "output_type": "stream",
     "text": [
      "4 x 1 = 4\n",
      "4 x 2 = 8\n",
      "4 x 3 = 12\n",
      "4 x 4 = 16\n",
      "4 x 5 = 20\n",
      "4 x 6 = 24\n",
      "4 x 7 = 28\n",
      "4 x 8 = 32\n",
      "4 x 9 = 36\n",
      "4 x 10 = 40\n"
     ]
    }
   ],
   "source": [
    "n = int(input(\"Enter the number of terms: \"))\n",
    "i=1\n",
    "\n",
    "while i <= 10:\n",
    "    print(f\"{n} x {i} = {n*i}\")\n",
    "    i += 1"
   ]
  },
  {
   "cell_type": "code",
   "execution_count": 51,
   "id": "17ac39b8-9017-4f65-87aa-e029ceb17b64",
   "metadata": {},
   "outputs": [
    {
     "ename": "IndentationError",
     "evalue": "expected an indented block after function definition on line 5 (1322120622.py, line 6)",
     "output_type": "error",
     "traceback": [
      "\u001b[1;36m  Cell \u001b[1;32mIn[51], line 6\u001b[1;36m\u001b[0m\n\u001b[1;33m    while n>0:\u001b[0m\n\u001b[1;37m    ^\u001b[0m\n\u001b[1;31mIndentationError\u001b[0m\u001b[1;31m:\u001b[0m expected an indented block after function definition on line 5\n"
     ]
    }
   ],
   "source": [
    "n = int(input(\"Enter the number of terms: \"))\n",
    "On=n\n",
    "Rn=0\n",
    "\n",
    "def P(n):\n",
    "while n>0:\n",
    "    digit = n%10\n",
    "    Rn = Rn * 10 + digit\n",
    "    n = n//10\n",
    "\n",
    "if On == Rn:\n",
    "    print(f\"{On} is a palindrome.\")\n",
    "else:\n",
    "    print(f\"{On} is not a palindrome.\")\n",
    "\n",
    "return(n)\n",
    "  "
   ]
  },
  {
   "cell_type": "code",
   "execution_count": 53,
   "id": "26da5c95-6f26-477c-8d05-fc9ad167a89f",
   "metadata": {},
   "outputs": [],
   "source": [
    "def add(a,b):\n",
    "    sum=a+b\n",
    "    return sum"
   ]
  },
  {
   "cell_type": "code",
   "execution_count": 59,
   "id": "5b241a1d-4043-4c66-b5ce-db37b892b464",
   "metadata": {},
   "outputs": [
    {
     "data": {
      "text/plain": [
       "5"
      ]
     },
     "execution_count": 59,
     "metadata": {},
     "output_type": "execute_result"
    }
   ],
   "source": [
    "add(2,3)"
   ]
  },
  {
   "cell_type": "code",
   "execution_count": null,
   "id": "b1d79265-f715-44f9-9332-03665e0c5e52",
   "metadata": {},
   "outputs": [],
   "source": [
    "def Asc(n):\n",
    "    x=len(n)\n",
    "    for i in n:\n",
    "        flag = True\n",
    "        for j in n:\n",
    "            if i<j:\n",
    "                i["
   ]
  }
 ],
 "metadata": {
  "kernelspec": {
   "display_name": "Python [conda env:base] *",
   "language": "python",
   "name": "conda-base-py"
  },
  "language_info": {
   "codemirror_mode": {
    "name": "ipython",
    "version": 3
   },
   "file_extension": ".py",
   "mimetype": "text/x-python",
   "name": "python",
   "nbconvert_exporter": "python",
   "pygments_lexer": "ipython3",
   "version": "3.12.7"
  }
 },
 "nbformat": 4,
 "nbformat_minor": 5
}

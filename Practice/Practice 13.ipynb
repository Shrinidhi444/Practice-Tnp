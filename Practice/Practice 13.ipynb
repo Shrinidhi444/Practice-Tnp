{
 "cells": [
  {
   "cell_type": "code",
   "execution_count": 1,
   "id": "ef5e70f8-a842-4680-b911-520e577cf501",
   "metadata": {},
   "outputs": [],
   "source": [
    "# find max of nos"
   ]
  },
  {
   "cell_type": "code",
   "execution_count": 3,
   "id": "e81d7049-a4f5-4b77-a2d0-254ba9ded05b",
   "metadata": {},
   "outputs": [
    {
     "name": "stdin",
     "output_type": "stream",
     "text": [
      "Enter no1: 3\n",
      "Enter no2: 4\n"
     ]
    },
    {
     "name": "stdout",
     "output_type": "stream",
     "text": [
      "4 is greater than 3\n"
     ]
    }
   ],
   "source": [
    "#  Sinple if else\n",
    "a = int(input(\"Enter no1:\"))\n",
    "b = int(input(\"Enter no2:\"))\n",
    "\n",
    "if a > b:\n",
    "    print(a,\"is greater than\",b)\n",
    "else:\n",
    "    print(b,\"is greater than\",a)"
   ]
  },
  {
   "cell_type": "code",
   "execution_count": 27,
   "id": "6004d63a-2045-457c-8aff-9478af44eec7",
   "metadata": {},
   "outputs": [
    {
     "name": "stdin",
     "output_type": "stream",
     "text": [
      "Enter no1: 5\n",
      "Enter no2: 6\n"
     ]
    },
    {
     "name": "stdout",
     "output_type": "stream",
     "text": [
      "6 is greater than 5\n"
     ]
    }
   ],
   "source": [
    "# class\n",
    "\n",
    "class Max:\n",
    "    def __init__(self,c,d):\n",
    "        self.c=c\n",
    "        self.d=d\n",
    "    def ma(self):\n",
    "        if self.c > self.d:\n",
    "            print(c,\"is greater than\",d)\n",
    "        else:\n",
    "            print(d,\"is greater than\",c)\n",
    "\n",
    "\n",
    "c = int(input(\"Enter no1:\"))\n",
    "d = int(input(\"Enter no2:\"))\n",
    "s1=Max(c,d)\n",
    "s1.ma()"
   ]
  },
  {
   "cell_type": "code",
   "execution_count": 47,
   "id": "b2eff97e-cd54-4f17-9a74-0a8ea09db752",
   "metadata": {},
   "outputs": [
    {
     "name": "stdin",
     "output_type": "stream",
     "text": [
      "Enter no of elements: 2\n",
      "Enter no1: 6\n",
      "Enter no2: 7\n"
     ]
    },
    {
     "name": "stdout",
     "output_type": "stream",
     "text": [
      "7 is greater\n"
     ]
    }
   ],
   "source": [
    "# max of n nos\n",
    "\n",
    "class Ma:\n",
    "    def __init__(self,no):\n",
    "        if not no:\n",
    "            raise ValueError(\"wrong input\")\n",
    "        self.no=no\n",
    "        \n",
    "    def m(self):\n",
    "        print(max(self.no),\"is greater\")\n",
    "\n",
    "no=[]\n",
    "n=int(input(\"Enter no of elements:\"))\n",
    "if n <= 0:\n",
    "    print(\"Number must be greater then zero\")\n",
    "else:\n",
    "    for i in range(n):\n",
    "        num = (int(input(f\"Enter no{i+1}:\")))\n",
    "        no.append(num)\n",
    "    \n",
    "\n",
    "    s2=Ma(no)\n",
    "    s2.m()            "
   ]
  },
  {
   "cell_type": "code",
   "execution_count": 51,
   "id": "b5fef655-9963-4b7c-b619-68fdf2a2caf8",
   "metadata": {},
   "outputs": [
    {
     "name": "stdin",
     "output_type": "stream",
     "text": [
      "Enter no of elements: 2\n",
      "enter no1: 8\n",
      "enter no2: 9\n"
     ]
    },
    {
     "name": "stdout",
     "output_type": "stream",
     "text": [
      "9 is greater\n"
     ]
    }
   ],
   "source": [
    "class M:\n",
    "    def __init__(self,no):\n",
    "        if not no:\n",
    "            raise ValueError(\"Wrong!!!\")\n",
    "        self.no=no\n",
    "    \n",
    "    def m(self):\n",
    "        print(max(no),\"is greater\")\n",
    "no=[]\n",
    "n= int(input(\"Enter no of elements:\"))\n",
    "if n <= 0:\n",
    "    print(\"wron!1\")\n",
    "else:\n",
    "    for i in range(n):\n",
    "        num=int(input(f\"enter no{i+1}:\"))\n",
    "        no.append(num)\n",
    "    s3 = M(no)\n",
    "    s3.m()\n",
    "\n"
   ]
  },
  {
   "cell_type": "code",
   "execution_count": null,
   "id": "0b60e533-a912-4b59-ab0c-481a03f286bc",
   "metadata": {},
   "outputs": [],
   "source": []
  }
 ],
 "metadata": {
  "kernelspec": {
   "display_name": "Python [conda env:base] *",
   "language": "python",
   "name": "conda-base-py"
  },
  "language_info": {
   "codemirror_mode": {
    "name": "ipython",
    "version": 3
   },
   "file_extension": ".py",
   "mimetype": "text/x-python",
   "name": "python",
   "nbconvert_exporter": "python",
   "pygments_lexer": "ipython3",
   "version": "3.12.7"
  }
 },
 "nbformat": 4,
 "nbformat_minor": 5
}

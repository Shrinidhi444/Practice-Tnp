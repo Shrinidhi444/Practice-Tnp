{
 "cells": [
  {
   "cell_type": "markdown",
   "id": "2ad91c4d-8544-4afa-a2fd-85c55839ba43",
   "metadata": {},
   "source": [
    "# Random Password Generation"
   ]
  },
  {
   "cell_type": "code",
   "execution_count": 8,
   "id": "b43e51f4-6ae2-42e7-b23c-f7c29638e959",
   "metadata": {},
   "outputs": [
    {
     "name": "stdin",
     "output_type": "stream",
     "text": [
      "Enter the length of the password:  6\n"
     ]
    },
    {
     "name": "stdout",
     "output_type": "stream",
     "text": [
      "Generated Password: 2scqA_\n"
     ]
    }
   ],
   "source": [
    "import random\n",
    "import string\n",
    "\n",
    "def Gen_password(length):\n",
    "    lowercase_letter = string.ascii_lowercase\n",
    "    uppercase_letter = string.ascii_uppercase\n",
    "    digits = string.digits\n",
    "    special_char = string.punctuation\n",
    "\n",
    "    all_characters = lowercase_letter + uppercase_letter + digits + special_char\n",
    "\n",
    "    Password = [\n",
    "        random.choice(lowercase_letter),\n",
    "        random.choice(uppercase_letter),\n",
    "        random.choice(digits),\n",
    "        random.choice(special_char)\n",
    "    ]\n",
    "\n",
    "    for _ in range(length - 4):\n",
    "        Password.append(random.choice(all_characters))\n",
    "\n",
    "    random.shuffle(Password)\n",
    "\n",
    "    return ''.join(Password)\n",
    "\n",
    "try:\n",
    "    Password_length = int(input(\"Enter the length of the password: \"))\n",
    "    if Password_length < 4:\n",
    "        print(\"Password length must be at least 4.\")\n",
    "    else:\n",
    "        Password = Gen_password(Password_length)\n",
    "        print(f\"Generated Password: {Password}\")\n",
    "except ValueError:\n",
    "    print(\"Please enter a valid integer.\")"
   ]
  },
  {
   "cell_type": "markdown",
   "id": "05df246b-39b4-475a-9109-98d068db0625",
   "metadata": {},
   "source": [
    "#1}  17-02-25"
   ]
  },
  {
   "cell_type": "markdown",
   "id": "8447f73a-315a-4b52-b997-d68858559d9e",
   "metadata": {},
   "source": [
    "## LeapYear calculation"
   ]
  },
  {
   "cell_type": "code",
   "execution_count": 29,
   "id": "a31d7a3f-9dbe-4a29-8206-06d5f3c3b311",
   "metadata": {},
   "outputs": [
    {
     "name": "stdin",
     "output_type": "stream",
     "text": [
      "enter year: 2024\n"
     ]
    },
    {
     "name": "stdout",
     "output_type": "stream",
     "text": [
      "Its a leap year!!!\n"
     ]
    }
   ],
   "source": [
    "class Leapyear:\n",
    "    def __init__(self,year):\n",
    "        self.year = year\n",
    "        \n",
    "    def C1(self):\n",
    "        if year % 4 == 0 and (year % 100 != 0 or year % 400 == 0):\n",
    "            print(\"Its a leap year!!!\")\n",
    "        else:\n",
    "            print(\"Its not a leap year!!!!\")\n",
    "\n",
    "\n",
    "year=int(input(\"enter year:\"))\n",
    "Leapyearcheck = Leapyear(year)\n",
    "Leapyearcheck.C1()"
   ]
  },
  {
   "cell_type": "markdown",
   "id": "12a0890d-3087-4a87-8a2e-4dca394f3158",
   "metadata": {},
   "source": [
    "## BMI calculation"
   ]
  },
  {
   "cell_type": "code",
   "execution_count": 23,
   "id": "6421e4fe-25a9-4f31-8e90-ada51890b5f4",
   "metadata": {},
   "outputs": [
    {
     "name": "stdin",
     "output_type": "stream",
     "text": [
      "Enter Your Height(in m): 20\n",
      "Enter Your Weight(in kg): 30\n"
     ]
    },
    {
     "name": "stdout",
     "output_type": "stream",
     "text": [
      "print You are eligible!!\n",
      "print You are eligible!!\n",
      "They are underweight!!\n"
     ]
    }
   ],
   "source": [
    "class Bmi():\n",
    "    \n",
    "    def __init__(self,height,weight):\n",
    "        self.height = height\n",
    "        self.weight = weight\n",
    "        if self.height == 0:\n",
    "            print(\"Divisible By zero!!\")\n",
    "        \n",
    "        if self.height > 0 and self.weight > 0:\n",
    "            print(\"print You are eligible!!\")\n",
    "        else:\n",
    "            print(\"You Have entered the wrong value !!\")\n",
    "    \n",
    "    def Check(self):\n",
    "        bmi = (self.weight / (self.height)**2)\n",
    "        \n",
    "        if bmi <= 18.5 :\n",
    "            print(\"They are underweight!!\")\n",
    "        elif bmi > 18.5 or bmi <=25 :\n",
    "             print(\"They Have Normal Height!!!\")\n",
    "        elif bmi > 25 or bmi <= 30 :\n",
    "            print(\"They are slightly overweight!!!!\")\n",
    "        elif bmi > 30 or bmi <= 35 :\n",
    "            print(\"They are obses!!\")\n",
    "        else:\n",
    "            print(\"They are clinically obsese!!!\")\n",
    "\n",
    "\n",
    "\n",
    "height = float(input(\"Enter Your Height(in m):\"))\n",
    "weight = float(input(\"Enter Your Weight(in kg):\"))\n",
    "\n",
    "Calbmi = Bmi(height,weight)\n",
    "Calbmi.Check()"
   ]
  },
  {
   "cell_type": "markdown",
   "id": "ca75b215-b09e-45f3-b955-0b20d2fb7047",
   "metadata": {},
   "source": [
    "## Rollercoster Ride"
   ]
  },
  {
   "cell_type": "code",
   "execution_count": 65,
   "id": "eea3c80a-edc3-4c4a-910d-2ef9aa5c09fe",
   "metadata": {},
   "outputs": [
    {
     "name": "stdin",
     "output_type": "stream",
     "text": [
      "Enter height: 100\n",
      "Enter Age: 40\n",
      "Do you want a photo? (yes/no):  yes\n"
     ]
    },
    {
     "name": "stdout",
     "output_type": "stream",
     "text": [
      "Oops!!!!!! Can't Play the Ride!!\n"
     ]
    }
   ],
   "source": [
    "class Rollercoster:\n",
    "    def __init__(self, height, age, want_photo=False):\n",
    "        self.height = height\n",
    "        self.age = age\n",
    "        self.want_photo = want_photo\n",
    "        self.cost = 0\n",
    "\n",
    "    def Cal_cost(self):\n",
    "        if self.height > 120:\n",
    "            print(\"Can Play the Ride!!!\")\n",
    "            if self.age < 12:\n",
    "                self.cost = 5\n",
    "            elif self.age <= 18:\n",
    "                self.cost = 7\n",
    "            elif 45 < self.age < 55:\n",
    "                self.cost = 0\n",
    "            else:\n",
    "                self.cost = 12\n",
    "        else:\n",
    "            print(\"Oops!!!!!! Can't Play the Ride!!\")\n",
    "            return\n",
    "\n",
    "        if self.want_photo:\n",
    "            self.cost += 3\n",
    "\n",
    "        print(f\"Total cost: Rs{self.cost}\")\n",
    "\n",
    "\n",
    "height = int(input(\"Enter height:\"))\n",
    "age = int(input(\"Enter Age:\"))\n",
    "photos = input(\"Do you want a photo? (yes/no): \").lower() == \"yes\"\n",
    "\n",
    "Ride = Rollercoster(height, age, photos)\n",
    "Ride.Cal_cost()"
   ]
  },
  {
   "cell_type": "markdown",
   "id": "a06e23f0-5a0b-4868-aa46-35d89779b0c8",
   "metadata": {},
   "source": [
    "# Pizza"
   ]
  },
  {
   "cell_type": "code",
   "execution_count": 68,
   "id": "193b26e9-c2e2-4a3b-bf96-93e493c0d21a",
   "metadata": {},
   "outputs": [
    {
     "name": "stdin",
     "output_type": "stream",
     "text": [
      "Enter pizza size (small/medium/large):  small\n",
      "Do you want pepperoni? (yes/no):  yes\n",
      "Do you want extra cheese? (yes/no):  yes\n"
     ]
    },
    {
     "name": "stdout",
     "output_type": "stream",
     "text": [
      "Total cost: $18\n"
     ]
    }
   ],
   "source": [
    "class Pizza:\n",
    "    def __init__(self, size, add_pepperoni=False, extra_cheese=False):\n",
    "        self.size = size\n",
    "        self.add_pepperoni = add_pepperoni\n",
    "        self.extra_cheese = extra_cheese\n",
    "        self.cost = 0\n",
    "\n",
    "    def calculate_cost(self):\n",
    "        if self.size == \"small\":\n",
    "            self.cost = 15\n",
    "            if self.add_pepperoni:\n",
    "                self.cost += 2\n",
    "        elif self.size == \"medium\":\n",
    "            self.cost = 20\n",
    "            if self.add_pepperoni:\n",
    "                self.cost += 3\n",
    "        elif self.size == \"large\":\n",
    "            self.cost = 25\n",
    "            if self.add_pepperoni:\n",
    "                self.cost += 3\n",
    "\n",
    "        if self.extra_cheese:\n",
    "            self.cost += 1\n",
    "\n",
    "        print(f\"Total cost: ${self.cost}\")\n",
    "\n",
    "\n",
    "size = input(\"Enter pizza size (small/medium/large): \").lower()\n",
    "pepperoni = input(\"Do you want pepperoni? (yes/no): \").lower() == \"yes\"\n",
    "cheese = input(\"Do you want extra cheese? (yes/no): \").lower() == \"yes\"\n",
    "\n",
    "pizza = Pizza(size, pepperoni, cheese)\n",
    "pizza.calculate_cost()"
   ]
  },
  {
   "cell_type": "markdown",
   "id": "5acc804f-dbf1-4c55-815d-e0189b6f993a",
   "metadata": {},
   "source": [
    "# Treasure map"
   ]
  },
  {
   "cell_type": "code",
   "execution_count": 9,
   "id": "82405d53-f8aa-4aa0-bd50-10d5329ebddd",
   "metadata": {},
   "outputs": [
    {
     "name": "stdout",
     "output_type": "stream",
     "text": [
      "Youre at a crossroad. Where do you want to go? Type \"left\" or \"right\"\n"
     ]
    },
    {
     "name": "stdin",
     "output_type": "stream",
     "text": [
      " left\n"
     ]
    },
    {
     "name": "stdout",
     "output_type": "stream",
     "text": [
      "Youve come to a lake. There is an island in the middle of the lake. Type \"wait\" to wait for a boat. Type \"swim\" to swim across.\n"
     ]
    },
    {
     "name": "stdin",
     "output_type": "stream",
     "text": [
      " swim\n"
     ]
    },
    {
     "name": "stdout",
     "output_type": "stream",
     "text": [
      "You arrive at the island unharmed. There is a house with 3 doors. One red, one yellow and one blue. Which colour do you choose?\n"
     ]
    },
    {
     "name": "stdin",
     "output_type": "stream",
     "text": [
      " yellow\n"
     ]
    },
    {
     "name": "stdout",
     "output_type": "stream",
     "text": [
      "You found the treasure! You Win!\n",
      "You chose a door that doesn't exist. Game Over.\n"
     ]
    }
   ],
   "source": [
    "print('Youre at a crossroad. Where do you want to go? Type \"left\" or \"right\"')\n",
    "choice1 = input().lower()\n",
    "\n",
    "if choice1 == \"left\":\n",
    "    print('Youve come to a lake. There is an island in the middle of the lake. Type \"wait\" to wait for a boat. Type \"swim\" to swim across.')\n",
    "    choice2 = input().lower()\n",
    "\n",
    "    if choice2 == \"swim\":\n",
    "        print(\"You arrive at the island unharmed. There is a house with 3 doors. One red, one yellow and one blue. Which colour do you choose?\")\n",
    "        choice3 = input().lower()\n",
    "\n",
    "        if choice3 == \"red\":\n",
    "            print(\"It's a room full of fire. Game Over.\")\n",
    "        if choice3 == \"yellow\":\n",
    "            print(\"You found the treasure! You Win!!!!!🤩🤩🤩🤩\")\n",
    "        if choice3 == \"blue\":\n",
    "            print(\"You enter a room of beasts. Game Over.\")\n",
    "\n",
    "        else:\n",
    "            print(\"You chose a door that doesn't exist. Game Over.\")\n",
    "\n",
    "    else:\n",
    "        print(\"You get attacked by an angry trout. Game Over.\")\n",
    "\n",
    "else:\n",
    "    peint(\"You fell into a hole. Game Over.\")\n",
    "    "
   ]
  },
  {
   "cell_type": "code",
   "execution_count": 39,
   "id": "56af27c4-ce62-446e-bd01-a2aa8869731e",
   "metadata": {},
   "outputs": [
    {
     "name": "stdin",
     "output_type": "stream",
     "text": [
      "Enter your height: 400\n",
      "Enter your age: 30\n",
      "If you Want a photo{yes/no}: yes\n"
     ]
    },
    {
     "name": "stdout",
     "output_type": "stream",
     "text": [
      "Can play the ride\n",
      "Total cost:rs3\n"
     ]
    }
   ],
   "source": [
    "height = int(input(\"Enter your height:\"))\n",
    "age = int(input(\"Enter your age:\"))\n",
    "want_photo=input(\"If you Want a photo{yes/no}:\").lower() == \"yes\"\n",
    "cost = 0\n",
    "\n",
    "if height > 120:\n",
    "    print(\"Can play the ride\")\n",
    "    if age < 12:\n",
    "        cost += 5\n",
    "    elif 12>age<18:\n",
    "        cost += 7\n",
    "    elif 18>age:\n",
    "        cost += 12\n",
    "    elif 45>age<55:\n",
    "        cost = 0\n",
    "    else:\n",
    "        cost = cost + 12\n",
    "else:\n",
    "    print(\"You cant play the ride!!\")\n",
    "\n",
    "if want_photo:\n",
    "    cost += 3\n",
    "\n",
    "print(f\"Total cost:rs{cost}\")    "
   ]
  },
  {
   "cell_type": "code",
   "execution_count": 47,
   "id": "ff48ca19-cd52-4ebd-9d8d-3bebf797a701",
   "metadata": {},
   "outputs": [
    {
     "name": "stdin",
     "output_type": "stream",
     "text": [
      "Enter small/medium/large: medium\n",
      "if you want peperoni{yes/no}: yes\n",
      "if you want extre cheese{yes/no}: yes\n"
     ]
    },
    {
     "name": "stdout",
     "output_type": "stream",
     "text": [
      "Total Cost:Rs24\n"
     ]
    }
   ],
   "source": [
    "pizza=input(\"Enter small/medium/large:\").lower()\n",
    "pep=input(\"if you want peperoni{yes/no}:\").lower() == \"yes\"\n",
    "cheese=input(\"if you want extre cheese{yes/no}:\").lower() == \"yes\"\n",
    "cost = 0\n",
    "\n",
    "if pizza == \"small\":\n",
    "    cost += 12\n",
    "    if pep:\n",
    "        cost += 2\n",
    "if pizza == \"medium\":\n",
    "    cost += 20\n",
    "    if pep:\n",
    "        cost += 3\n",
    "if pizza == \"large\":\n",
    "    cost += 25\n",
    "    if pep:\n",
    "        cost += 3\n",
    "\n",
    "if cheese:\n",
    "    cost += 1\n",
    "\n",
    "print(f\"Total Cost:Rs{cost}\")\n"
   ]
  },
  {
   "cell_type": "code",
   "execution_count": null,
   "id": "c659229e-cc2f-40f4-997d-4c801e287825",
   "metadata": {},
   "outputs": [],
   "source": []
  }
 ],
 "metadata": {
  "kernelspec": {
   "display_name": "Python [conda env:base] *",
   "language": "python",
   "name": "conda-base-py"
  },
  "language_info": {
   "codemirror_mode": {
    "name": "ipython",
    "version": 3
   },
   "file_extension": ".py",
   "mimetype": "text/x-python",
   "name": "python",
   "nbconvert_exporter": "python",
   "pygments_lexer": "ipython3",
   "version": "3.12.7"
  }
 },
 "nbformat": 4,
 "nbformat_minor": 5
}

{
 "cells": [
  {
   "cell_type": "code",
   "execution_count": 1,
   "id": "4551b978-8807-4582-8194-a850cb8d0bbf",
   "metadata": {},
   "outputs": [
    {
     "name": "stdout",
     "output_type": "stream",
     "text": [
      "[2, 4]\n"
     ]
    },
    {
     "data": {
      "text/plain": [
       "6"
      ]
     },
     "execution_count": 1,
     "metadata": {},
     "output_type": "execute_result"
    }
   ],
   "source": [
    "numbers=[3,2,4,3]\n",
    "Uno=[]\n",
    "for i in numbers:\n",
    "   if numbers.count(i)==1:\n",
    "    Uno.append(i)\n",
    "print(Uno)\n",
    "sum(Uno)"
   ]
  },
  {
   "cell_type": "markdown",
   "id": "b5bdab00-62c6-4c6d-9951-7096bbd8d70f",
   "metadata": {},
   "source": [
    "#print no of occurences from string"
   ]
  },
  {
   "cell_type": "code",
   "execution_count": 20,
   "id": "b3580cae-b12b-4795-95e1-656952f212d9",
   "metadata": {},
   "outputs": [
    {
     "name": "stdin",
     "output_type": "stream",
     "text": [
      "Enter String: fizzbuzz\n"
     ]
    },
    {
     "name": "stdout",
     "output_type": "stream",
     "text": [
      "f:1\n",
      "i:1\n",
      "z:4\n",
      "b:1\n",
      "u:1\n"
     ]
    }
   ],
   "source": [
    "def Iterate(String):\n",
    "  d={}\n",
    "  for i in String:\n",
    "      if i in d:\n",
    "          d.update({i:d.get(i)+1})\n",
    "      else:\n",
    "          d.update({i:1})\n",
    "  for k1,v1 in d.items():\n",
    "      print(f\"{k1}:{v1}\")\n",
    "Iterate(input(\"Enter String:\"))"
   ]
  },
  {
   "cell_type": "markdown",
   "id": "0fdc1cc2-a81d-4593-a647-81e5af6f6573",
   "metadata": {},
   "source": [
    "# fizzbuzz"
   ]
  },
  {
   "cell_type": "code",
   "execution_count": null,
   "id": "90351152-8337-4a13-8e15-55208bb53831",
   "metadata": {},
   "outputs": [],
   "source": [
    "def Fizzbuzz(Number):\n",
    "    if(Number % 3 == 0 and Number % 5 == 0):\n",
    "        print(\"FizzBuzz!!\")\n",
    "    elif(Number % 3 == 0):\n",
    "        print(\"Fizz!!\")\n",
    "    elif(Number % 5 == 0):\n",
    "        print(\"Buzz!!\")\n",
    "    else:\n",
    "        print(\"Number not divisible by 3 or 5!!!\")\n",
    "\n",
    "\n",
    "Number = int(input(\"Enter no:\"))\n",
    "Fizzbuzz(Number)\n",
    "        "
   ]
  },
  {
   "cell_type": "markdown",
   "id": "9f3d7983-2b60-4c43-9095-9d65d34d5eb9",
   "metadata": {},
   "source": [
    "# Generate Random Password"
   ]
  },
  {
   "cell_type": "code",
   "execution_count": null,
   "id": "36abf56b-14ea-47b7-80a0-ea500d9f5198",
   "metadata": {},
   "outputs": [],
   "source": [
    "def  "
   ]
  },
  {
   "cell_type": "markdown",
   "id": "8c04bd6d-5053-4537-9266-e61ee1b5eb39",
   "metadata": {},
   "source": [
    "# ROCK PAPER SECISSOR GAME"
   ]
  },
  {
   "cell_type": "code",
   "execution_count": 43,
   "id": "653b8d80-8c45-470f-869d-9469001c82c7",
   "metadata": {},
   "outputs": [
    {
     "ename": "IndentationError",
     "evalue": "expected an indented block after 'while' statement on line 19 (1675473396.py, line 20)",
     "output_type": "error",
     "traceback": [
      "\u001b[1;36m  Cell \u001b[1;32mIn[43], line 20\u001b[1;36m\u001b[0m\n\u001b[1;33m    guess = int(input(\"Enter your guess: \"))\u001b[0m\n\u001b[1;37m    ^\u001b[0m\n\u001b[1;31mIndentationError\u001b[0m\u001b[1;31m:\u001b[0m expected an indented block after 'while' statement on line 19\n"
     ]
    }
   ],
   "source": [
    "import random\n",
    "\n",
    "def Random_choice():\n",
    "    ch = random.choice(\"ROCK\",\"PAPER\",\"SECISSOR\")\n",
    "    return ch\n",
    "\n",
    "def Game(ch,guess):\n",
    "    if ch == guess:\n",
    "        print(\"Both of you have made the samechoice, so its a Tie!!\")\n",
    "    if ch==\"Rock\" and guess==\"Paper\":\n",
    "        print(\"Rock won!!!\")\n",
    "    if ch==\"Paper\" and guess==\"Secissor\":\n",
    "        print(\"Secissor won!!\")\n",
    "    if ch==\"Rock\" and guess==\"Secissor\":\n",
    "        print(\"Rock won!!\")\n",
    "\n",
    "def Play_game(ch):\n",
    "    count = 0\n",
    "    while count <= 3:\n",
    "    guess = int(input(\"Enter your guess: \"))\n",
    "        if random_guess(ch, guess):  \n",
    "            print(\"Goodbye!!\")\n",
    "            return\n",
    "        count += 1\n",
    "    print(\"You are out of chances.\", ch)\n",
    "\n",
    "\n",
    "n = Random_choice()\n",
    "print(\"You have 3 chances to guess. Let's begin🤗!!\")\n",
    "play_game(n)\n",
    "\n",
    "    \n"
   ]
  },
  {
   "cell_type": "code",
   "execution_count": null,
   "id": "8d262ef4-ca4d-4108-b4e6-b6faebb33e33",
   "metadata": {},
   "outputs": [],
   "source": []
  },
  {
   "cell_type": "code",
   "execution_count": null,
   "id": "b6e1d00c-95d3-4f6a-969a-cc1e7392f8a5",
   "metadata": {},
   "outputs": [],
   "source": []
  }
 ],
 "metadata": {
  "kernelspec": {
   "display_name": "Python [conda env:base] *",
   "language": "python",
   "name": "conda-base-py"
  },
  "language_info": {
   "codemirror_mode": {
    "name": "ipython",
    "version": 3
   },
   "file_extension": ".py",
   "mimetype": "text/x-python",
   "name": "python",
   "nbconvert_exporter": "python",
   "pygments_lexer": "ipython3",
   "version": "3.12.7"
  }
 },
 "nbformat": 4,
 "nbformat_minor": 5
}

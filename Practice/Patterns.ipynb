{
 "cells": [
  {
   "cell_type": "code",
   "execution_count": 27,
   "id": "d8c90180-3f6d-4b89-8095-94e939c63047",
   "metadata": {},
   "outputs": [
    {
     "name": "stdin",
     "output_type": "stream",
     "text": [
      "Enter no 6\n"
     ]
    },
    {
     "name": "stdout",
     "output_type": "stream",
     "text": [
      "*    *\n",
      " *  * \n",
      "  **  \n",
      "  **  \n",
      " *  * \n",
      "*    *\n"
     ]
    }
   ],
   "source": [
    "n=int(input(\"Enter no\"))\n",
    "for i in range(n):\n",
    "    for j in range(n):\n",
    "        if i==j or j==n-1-i:\n",
    "            print(\"*\",end=\"\")\n",
    "        else:\n",
    "            print(\" \",end=\"\")\n",
    "    print()"
   ]
  },
  {
   "cell_type": "code",
   "execution_count": 51,
   "id": "7efcbff1-0af2-4783-aeed-c048fc6b889d",
   "metadata": {},
   "outputs": [
    {
     "name": "stdin",
     "output_type": "stream",
     "text": [
      "Enter no 6\n"
     ]
    },
    {
     "name": "stdout",
     "output_type": "stream",
     "text": [
      "* * * * * * \n",
      "* * * * * * \n",
      "* * * * * * \n",
      "* * * * * * \n",
      "* * * * * * \n",
      "* * * * * * \n"
     ]
    }
   ],
   "source": [
    "n=int(input(\"Enter no\"))\n",
    "for i in range(n):\n",
    "    for j in range(n):\n",
    "        print(\"*\",end=\" \")\n",
    "    print()"
   ]
  },
  {
   "cell_type": "code",
   "execution_count": 57,
   "id": "9d74c0b4-f6cb-4b34-a081-ea1fa5b78f2e",
   "metadata": {},
   "outputs": [
    {
     "name": "stdin",
     "output_type": "stream",
     "text": [
      "Enter no 10\n"
     ]
    },
    {
     "name": "stdout",
     "output_type": "stream",
     "text": [
      "* * * * * * * * * * \n",
      "*                 * \n",
      "*                 * \n",
      "*                 * \n",
      "*                 * \n",
      "*                 * \n",
      "*                 * \n",
      "*                 * \n",
      "*                 * \n",
      "* * * * * * * * * * \n"
     ]
    }
   ],
   "source": [
    "n=int(input(\"Enter no\"))\n",
    "for i in range(n):\n",
    "    for j in range(n):\n",
    "        if i==0 or j==0 or i==n-1 or j==n-1:\n",
    "            print(\"*\",end=\" \")\n",
    "        else:\n",
    "            print(\" \",end=\" \")\n",
    "    print()"
   ]
  },
  {
   "cell_type": "code",
   "execution_count": 63,
   "id": "50f2900f-7a74-4a92-b4b3-aebb0832d87c",
   "metadata": {},
   "outputs": [
    {
     "name": "stdin",
     "output_type": "stream",
     "text": [
      "Enter no: 4\n"
     ]
    },
    {
     "name": "stdout",
     "output_type": "stream",
     "text": [
      "*\n",
      "**\n",
      "***\n",
      "****\n"
     ]
    }
   ],
   "source": [
    "n=int(input(\"Enter no:\"))\n",
    "\n",
    "for i in range(1, n+1):   \n",
    "    print('*' *i)"
   ]
  },
  {
   "cell_type": "code",
   "execution_count": 71,
   "id": "2ec2ea72-593a-4736-b8c4-b54820e86935",
   "metadata": {},
   "outputs": [
    {
     "name": "stdin",
     "output_type": "stream",
     "text": [
      "Enter no: 4\n"
     ]
    },
    {
     "name": "stdout",
     "output_type": "stream",
     "text": [
      "   *\n",
      "  **\n",
      " ***\n",
      "****\n"
     ]
    }
   ],
   "source": [
    "n=int(input(\"Enter no:\"))\n",
    "\n",
    "for i in range(1, n+1):   \n",
    "    print(' ' *(n-i) + '*' *i)"
   ]
  },
  {
   "cell_type": "code",
   "execution_count": 83,
   "id": "c6b5efc3-c8c9-47c8-84a3-f3d568f4e6d8",
   "metadata": {},
   "outputs": [
    {
     "name": "stdin",
     "output_type": "stream",
     "text": [
      "Enter no: 4\n"
     ]
    },
    {
     "name": "stdout",
     "output_type": "stream",
     "text": [
      "****\n",
      "***\n",
      "**\n",
      "*\n"
     ]
    }
   ],
   "source": [
    "n=int(input(\"Enter no:\"))\n",
    "\n",
    "for i in range(n, 0, -1):\n",
    "    print('*' *i)"
   ]
  },
  {
   "cell_type": "code",
   "execution_count": 87,
   "id": "5cd913b2-886b-4970-a9fe-10eeff86b0eb",
   "metadata": {},
   "outputs": [
    {
     "name": "stdin",
     "output_type": "stream",
     "text": [
      "Enter no: 4\n"
     ]
    },
    {
     "name": "stdout",
     "output_type": "stream",
     "text": [
      "****\n",
      " ***\n",
      "  **\n",
      "   *\n"
     ]
    }
   ],
   "source": [
    "n=int(input(\"Enter no:\"))\n",
    "\n",
    "for i in range(n, 0, -1):\n",
    "    print(' ' *(n-i) + '*' *i)"
   ]
  },
  {
   "cell_type": "code",
   "execution_count": 93,
   "id": "8a7c689c-a7ba-4b7b-a518-0b16b50656d8",
   "metadata": {},
   "outputs": [
    {
     "name": "stdin",
     "output_type": "stream",
     "text": [
      "Enter no: 5\n"
     ]
    },
    {
     "name": "stdout",
     "output_type": "stream",
     "text": [
      "    *\n",
      "   ***\n",
      "  *****\n",
      " *******\n",
      "*********\n"
     ]
    }
   ],
   "source": [
    "n=int(input(\"Enter no:\"))\n",
    "\n",
    "for i in range(1, n+1):\n",
    "    print(' ' *(n-i) + \"*\" *(2*i-1))"
   ]
  },
  {
   "cell_type": "code",
   "execution_count": 91,
   "id": "3a2be471-e393-45a4-aae6-921bfc0ab34b",
   "metadata": {},
   "outputs": [
    {
     "name": "stdin",
     "output_type": "stream",
     "text": [
      "Enter no: 5\n"
     ]
    },
    {
     "name": "stdout",
     "output_type": "stream",
     "text": [
      "*********\n",
      " *******\n",
      "  *****\n",
      "   ***\n",
      "    *\n"
     ]
    }
   ],
   "source": [
    "n=int(input(\"Enter no:\"))\n",
    "\n",
    "for i in range(n, 0, -1):\n",
    "    print(' ' *(n-i) + \"*\" *(2*i-1))"
   ]
  },
  {
   "cell_type": "code",
   "execution_count": 95,
   "id": "2646e43b-9561-48ff-870c-01ec96b87f85",
   "metadata": {},
   "outputs": [
    {
     "name": "stdin",
     "output_type": "stream",
     "text": [
      "Enter no: 5\n"
     ]
    },
    {
     "name": "stdout",
     "output_type": "stream",
     "text": [
      "*\n",
      "**\n",
      "***\n",
      "****\n",
      "*****\n",
      "*****\n",
      "****\n",
      "***\n",
      "**\n",
      "*\n"
     ]
    }
   ],
   "source": [
    "n=int(input(\"Enter no:\"))\n",
    "\n",
    "for i in range(1,n+1):\n",
    "    print(\"*\" *i)\n",
    "for i in range(n, 0, -1):\n",
    "    print(\"*\" *i)"
   ]
  },
  {
   "cell_type": "code",
   "execution_count": 97,
   "id": "5978536f-0287-486b-92da-a28e422bb9f2",
   "metadata": {},
   "outputs": [
    {
     "name": "stdin",
     "output_type": "stream",
     "text": [
      "Enter no: 5\n"
     ]
    },
    {
     "name": "stdout",
     "output_type": "stream",
     "text": [
      "    *\n",
      "   **\n",
      "  ***\n",
      " ****\n",
      "*****\n",
      "*****\n",
      " ****\n",
      "  ***\n",
      "   **\n",
      "    *\n"
     ]
    }
   ],
   "source": [
    "n=int(input(\"Enter no:\"))\n",
    "\n",
    "for i in range(1, n+1):\n",
    "    print(\" \" *(n-i) + \"*\" *i)\n",
    "\n",
    "for i in range(n, 0, -1):\n",
    "    print(\" \" *(n-i) + \"*\" *i)"
   ]
  },
  {
   "cell_type": "code",
   "execution_count": 101,
   "id": "d30ec613-b187-45cf-99bb-d57609103fa9",
   "metadata": {},
   "outputs": [
    {
     "name": "stdin",
     "output_type": "stream",
     "text": [
      "Enter no: 5\n"
     ]
    },
    {
     "name": "stdout",
     "output_type": "stream",
     "text": [
      "    *\n",
      "   ***\n",
      "  *****\n",
      " *******\n",
      "*********\n",
      "*********\n",
      " *******\n",
      "  *****\n",
      "   ***\n",
      "    *\n"
     ]
    }
   ],
   "source": [
    "n=int(input(\"Enter no:\"))\n",
    "\n",
    "for i in range (1,n+1):\n",
    "    print(' ' *(n-i) + \"*\" *(2*i-1))\n",
    "for i in range (n, 0, -1):\n",
    "    print(' ' *(n-i) + \"*\" *(2*i-1))\n",
    "    "
   ]
  },
  {
   "cell_type": "code",
   "execution_count": 118,
   "id": "7ec6978e-ee5a-4054-89a2-8c5010f8b004",
   "metadata": {},
   "outputs": [
    {
     "name": "stdin",
     "output_type": "stream",
     "text": [
      "Enter no: 5\n"
     ]
    },
    {
     "name": "stdout",
     "output_type": "stream",
     "text": [
      "    *\n",
      "   * *\n",
      "  *   *\n",
      " *     *\n",
      "*********\n"
     ]
    }
   ],
   "source": [
    "n = int(input(\"Enter no:\"))\n",
    "\n",
    "for i in range(1, n+1):\n",
    "    if i == 1 or i == n:\n",
    "        print(' ' * (n - i) + '*' * (2*i - 1))\n",
    "    else:\n",
    "        print(' ' * (n - i) + '*' + ' ' * (2*(i-1) - 1) + '*')"
   ]
  },
  {
   "cell_type": "code",
   "execution_count": null,
   "id": "7723e646-0d3f-4268-9e1a-75fb46853fdc",
   "metadata": {},
   "outputs": [],
   "source": []
  }
 ],
 "metadata": {
  "kernelspec": {
   "display_name": "Python [conda env:base] *",
   "language": "python",
   "name": "conda-base-py"
  },
  "language_info": {
   "codemirror_mode": {
    "name": "ipython",
    "version": 3
   },
   "file_extension": ".py",
   "mimetype": "text/x-python",
   "name": "python",
   "nbconvert_exporter": "python",
   "pygments_lexer": "ipython3",
   "version": "3.12.7"
  }
 },
 "nbformat": 4,
 "nbformat_minor": 5
}

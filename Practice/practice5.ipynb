{
 "cells": [
  {
   "cell_type": "code",
   "execution_count": null,
   "id": "91c2ee1e-15b6-4bcd-beba-071390ba82c5",
   "metadata": {},
   "outputs": [],
   "source": [
    "class Arithmaticop:\n",
    "    def Addition(self,num1,num2):\n",
    "        print(C=num1+num2)\n",
    "\n",
    "    def Substraction(self,num1,num2):\n",
    "        print(C=num1-num2)\n",
    "\n",
    "    def Multiplication(self,num1,num2):\n",
    "        print(C=num1*num2)\n",
    "\n",
    "    def Division(self,num1,num2):\n",
    "        print(C=num1/num2)\n",
    "\n",
    "\n",
    "Operation={\n",
    "    \"Add\":Addition,\n",
    "    \"Sub\":Substraction\n",
    "    \"Mult\":Multiplication\n",
    "    \"Div\":Division\n",
    "}\n",
    "\n",
    "num1=int(input(\"Enter number1:\")\n",
    "num2=int(input(\"Enter number2:\")\n",
    "Operation=input(\"Enter operation:)\n",
    "\n",
    "\n",
    "result = Operations.get(operation, lambda x: \"Invalid operation\")(number)\n",
    "print(result)  #"
   ]
  },
  {
   "cell_type": "code",
   "execution_count": 5,
   "id": "a25ed28f-4f7c-45d6-ab68-ef1f9ba66593",
   "metadata": {},
   "outputs": [
    {
     "name": "stdin",
     "output_type": "stream",
     "text": [
      "Enter numbers separated by spaces:  34 56\n",
      "Enter operation (Add/Sub/Mult/Div):  Add\n"
     ]
    },
    {
     "name": "stdout",
     "output_type": "stream",
     "text": [
      "Addition: 90\n"
     ]
    }
   ],
   "source": [
    "class ArithmeticOp:\n",
    "    def Add(self, *args):\n",
    "        result = sum(args)\n",
    "        print(\"Addition:\", result)\n",
    "\n",
    "    def Sub(self, *args):\n",
    "        if len(args) < 1:\n",
    "            print(\"Error: At least one arg is required\")\n",
    "            return\n",
    "        result = args[0]\n",
    "        for num in args[1:]:\n",
    "            result -= num\n",
    "        print(\"Subtraction:\", result)\n",
    "\n",
    "    def Mult(self, *args):\n",
    "        result = 1\n",
    "        for num in args:\n",
    "            result *= num\n",
    "        print(\"Multiplication:\", result)\n",
    "\n",
    "    def Div(self, *args):\n",
    "        if len(args) < 2:\n",
    "            print(\"Error: At least two args are required\")\n",
    "            return\n",
    "        result = args[0]\n",
    "        for num in args[1:]:\n",
    "            if num == 0:\n",
    "                print(\"Error: Division by zero is not allowed.\")\n",
    "                return\n",
    "            result /= num\n",
    "        print(\"Division:\", result)\n",
    "\n",
    "arithmetic = ArithmeticOp()\n",
    "\n",
    "Operation = {\n",
    "    \"Add\": arithmetic.Add,\n",
    "    \"Sub\": arithmetic.Sub,\n",
    "    \"Mult\": arithmetic.Mult,\n",
    "    \"Div\": arithmetic.Div\n",
    "}\n",
    "\n",
    "numbers = list(map(int, input(\"Enter numbers separated by spaces: \").split()))\n",
    "operation = input(\"Enter operation (Add/Sub/Mult/Div): \")\n",
    "\n",
    "if operation in Operation:\n",
    "    Operation[operation](*numbers)\n",
    "else:\n",
    "    print(\"Invalid operation\")"
   ]
  },
  {
   "cell_type": "code",
   "execution_count": null,
   "id": "ec2abe09-a688-4de5-bfb0-8d0b18b18c97",
   "metadata": {},
   "outputs": [],
   "source": []
  }
 ],
 "metadata": {
  "kernelspec": {
   "display_name": "Python [conda env:base] *",
   "language": "python",
   "name": "conda-base-py"
  },
  "language_info": {
   "codemirror_mode": {
    "name": "ipython",
    "version": 3
   },
   "file_extension": ".py",
   "mimetype": "text/x-python",
   "name": "python",
   "nbconvert_exporter": "python",
   "pygments_lexer": "ipython3",
   "version": "3.12.7"
  }
 },
 "nbformat": 4,
 "nbformat_minor": 5
}

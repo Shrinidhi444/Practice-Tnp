{
 "cells": [
  {
   "cell_type": "code",
   "execution_count": 13,
   "id": "ed3eb9cf-6600-4184-bde1-1804ace3abad",
   "metadata": {},
   "outputs": [
    {
     "name": "stdin",
     "output_type": "stream",
     "text": [
      "Enter Your file:  shri\n"
     ]
    },
    {
     "name": "stdout",
     "output_type": "stream",
     "text": [
      "File not Found!!\n"
     ]
    }
   ],
   "source": [
    "# def File(Input_file):\n",
    "#     try:\n",
    "#         file = open(Input_file,'r')\n",
    "#     except FileNotFoundError:\n",
    "#         print(\"File not Found!!\")\n",
    "#     except PermissionError:\n",
    "#         print(\"Permission error Occurred!!\")\n",
    "#     except UnknownError:\n",
    "#         print(\"Unknown Error occured!!\")\n",
    "#     else:\n",
    "#         text=file.read()\n",
    "#         print(text)   \n",
    "#     finally:\n",
    "#         file.close()\n",
    "\n",
    "# Input_file=input(\"Enter Your file:\")\n",
    "# File(Input_file)\n",
    "def File(Input_file):\n",
    "    try:\n",
    "        with open(Input_file, 'r') as file:\n",
    "            text = file.read()\n",
    "            print(text)\n",
    "    except FileNotFoundError:\n",
    "        print(\"File not Found!!\")\n",
    "    except PermissionError:\n",
    "        print(\"Permission error Occurred!!\")\n",
    "    except Exception as e:\n",
    "        print(f\"An error occurred: {e}\")\n",
    "\n",
    "Input_file = input(\"Enter Your file: \")\n",
    "File(Input_file)\n"
   ]
  },
  {
   "cell_type": "code",
   "execution_count": 15,
   "id": "c34720d5-12bd-420d-b3e2-aeddf6c73cb5",
   "metadata": {},
   "outputs": [
    {
     "name": "stdout",
     "output_type": "stream",
     "text": [
      "[1, 2, 3, 4, 5]\n"
     ]
    }
   ],
   "source": [
    "numbers = [1, 2, 2, 3, 4, 4, 5]\n",
    "unique_numbers = []\n",
    "for num in numbers:\n",
    "    if num not in unique_numbers:\n",
    "        unique_numbers.append(num)\n",
    "print(unique_numbers)"
   ]
  },
  {
   "cell_type": "code",
   "execution_count": 9,
   "id": "7c9b698e-1ba2-4d3f-9b53-80883bc53eec",
   "metadata": {},
   "outputs": [],
   "source": [
    "class Solution(object):\n",
    "    def merge(self, list1, list2):\n",
    "        if not list1 and not list2:\n",
    "            return None\n",
    "        elif not list1:\n",
    "            return list2\n",
    "        elif not list2:\n",
    "            return list1\n",
    "        else:\n",
    "            if list1.val <= list2.val:\n",
    "                list1.next = self.merge(list1.next, list2)\n",
    "                return list1\n",
    "            else:\n",
    "                list2.next = self.merge(list1, list2.next)\n",
    "                return list2"
   ]
  },
  {
   "cell_type": "code",
   "execution_count": 19,
   "id": "87ae7817-1e9e-4939-b537-be98e99c330c",
   "metadata": {},
   "outputs": [
    {
     "name": "stdin",
     "output_type": "stream",
     "text": [
      "enter string: sh ri\n"
     ]
    },
    {
     "name": "stdout",
     "output_type": "stream",
     "text": [
      "length of last word is : 2\n"
     ]
    }
   ],
   "source": [
    "def len_string(s):\n",
    "    length = 0\n",
    "    i = len(s) - 1\n",
    "\n",
    "    while i >= 0 and s[i] == \" \":\n",
    "        i -= 1\n",
    "\n",
    "    while i >= 0 and s[i] != \" \":\n",
    "        length += 1\n",
    "        i -= 1\n",
    "\n",
    "    return length\n",
    "\n",
    "input_str=input(\"enter string:\")\n",
    "result = len_string(input_str)\n",
    "print(\"length of last word is :\",result)\n",
    "        "
   ]
  },
  {
   "cell_type": "code",
   "execution_count": 35,
   "id": "49792c84-72dd-45e3-aa63-13e38ef8a18e",
   "metadata": {},
   "outputs": [
    {
     "name": "stdin",
     "output_type": "stream",
     "text": [
      "Enter Number 24\n"
     ]
    },
    {
     "name": "stdout",
     "output_type": "stream",
     "text": [
      "Print Number is even and is divisible by 2\n",
      "Result: None\n"
     ]
    }
   ],
   "source": [
    "def Check(self):\n",
    "    def __init__(self,no):\n",
    "        self.no=no\n",
    "\n",
    "    if no % 2 == 0 :\n",
    "        print(\"Print Number is even and is divisible by 2\")\n",
    "    else:\n",
    "        print(\"Number is Odd and is not divisible by 2\")\n",
    "\n",
    "\n",
    "no=int(input(\"Enter Number\"))\n",
    "result=Check(no)\n",
    "print(\"Result:\",result)"
   ]
  },
  {
   "cell_type": "code",
   "execution_count": 37,
   "id": "cc847b5f-4727-40a5-ba80-5514777769d2",
   "metadata": {},
   "outputs": [
    {
     "name": "stdin",
     "output_type": "stream",
     "text": [
      "Enter the amount:  1234\n"
     ]
    },
    {
     "name": "stdout",
     "output_type": "stream",
     "text": [
      "500 notes: 2\n",
      "100 notes: 2\n",
      "50 notes: 0\n",
      "20 notes: 1\n",
      "10 notes: 1\n",
      "5 notes: 0\n",
      "2 notes: 2\n",
      "1 notes: 0\n"
     ]
    }
   ],
   "source": [
    "def Total_notes(amount):\n",
    "    n500 = n100 = n50 = n20 = n10 = n5 = n2 = n1 = 0\n",
    "\n",
    "    if amount >= 500:\n",
    "        n500 = amount // 500\n",
    "        amount = amount - (n500 * 500)\n",
    "    if amount >= 100:\n",
    "        n100 = amount // 100\n",
    "        amount = amount - (n100 * 100)\n",
    "    if amount >= 50:\n",
    "        n50 = amount // 50\n",
    "        amount = amount - (n50 * 50)\n",
    "    if amount >= 20:\n",
    "        n20 = amount // 20\n",
    "        amount = amount - (n20 * 20)\n",
    "    if amount >= 10:\n",
    "        n10 = amount // 10\n",
    "        amount = amount - (n10 * 10)\n",
    "    if amount >= 5:\n",
    "        n5 = amount // 5\n",
    "        amount = amount - (n5 * 5)\n",
    "    if amount >= 2:\n",
    "        n2 = amount // 2\n",
    "        amount = amount - (n2 * 2)\n",
    "    if amount >= 1:\n",
    "        n1 = amount // 1\n",
    "        amount = amount - (n1 * 1)\n",
    "\n",
    "    print(\"500 notes:\", n500)\n",
    "    print(\"100 notes:\", n100)\n",
    "    print(\"50 notes:\", n50)\n",
    "    print(\"20 notes:\", n20)\n",
    "    print(\"10 notes:\", n10)\n",
    "    print(\"5 notes:\", n5)\n",
    "    print(\"2 notes:\", n2)\n",
    "    print(\"1 notes:\", n1)\n",
    "\n",
    "# Input amount from user\n",
    "amount = int(input(\"Enter the amount: \"))\n",
    "Total_notes(amount)"
   ]
  },
  {
   "cell_type": "code",
   "execution_count": null,
   "id": "dd596f58-7cd6-4879-b9c5-34be810f9fb7",
   "metadata": {},
   "outputs": [],
   "source": []
  }
 ],
 "metadata": {
  "kernelspec": {
   "display_name": "Python [conda env:base] *",
   "language": "python",
   "name": "conda-base-py"
  },
  "language_info": {
   "codemirror_mode": {
    "name": "ipython",
    "version": 3
   },
   "file_extension": ".py",
   "mimetype": "text/x-python",
   "name": "python",
   "nbconvert_exporter": "python",
   "pygments_lexer": "ipython3",
   "version": "3.12.7"
  }
 },
 "nbformat": 4,
 "nbformat_minor": 5
}

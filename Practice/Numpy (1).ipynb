{
 "cells": [
  {
   "cell_type": "markdown",
   "id": "23884e4c-d0f8-4e86-b0b0-91bff85c671c",
   "metadata": {},
   "source": [
    "# Numpy"
   ]
  },
  {
   "cell_type": "code",
   "execution_count": null,
   "id": "03ac67f3-6aa4-442a-a560-7fe46fd29091",
   "metadata": {},
   "outputs": [],
   "source": [
    "import numpy as np\n",
    "arr=np.array([1,0,1,0])\n",
    "print(arr)\n"
   ]
  },
  {
   "cell_type": "code",
   "execution_count": 5,
   "id": "d0456d8e-7738-4692-8c11-1e33ebbec6cc",
   "metadata": {},
   "outputs": [
    {
     "name": "stdout",
     "output_type": "stream",
     "text": [
      "[[1 0 1 0]\n",
      " [1 1 1 6]]\n"
     ]
    }
   ],
   "source": [
    "import numpy as np\n",
    "arr=np.array([(1,0,1,0),(1,1,1,6)])\n",
    "print(arr)\n"
   ]
  },
  {
   "cell_type": "code",
   "execution_count": 9,
   "id": "afcd2567-17b5-4c19-86ef-19f3742a1224",
   "metadata": {},
   "outputs": [
    {
     "name": "stdout",
     "output_type": "stream",
     "text": [
      "[0 1 2 3 4 5 6 7 8 9]\n",
      "[1.  1.8 2.6 3.4 4.2 5. ]\n"
     ]
    }
   ],
   "source": [
    "a=np.arange(10)\n",
    "d=np.linspace(1,5,6)  #divide into equal parts\n",
    "print(a)\n",
    "print(d)"
   ]
  },
  {
   "cell_type": "markdown",
   "id": "a9bbb29b-d385-46aa-b58f-36bcf6e1b8b3",
   "metadata": {},
   "source": [
    "# Properties of numpy"
   ]
  },
  {
   "cell_type": "code",
   "execution_count": 38,
   "id": "1f423125-0c8d-4dcb-a8d2-3282ad1c9ca8",
   "metadata": {},
   "outputs": [
    {
     "name": "stdout",
     "output_type": "stream",
     "text": [
      "1\n",
      "4\n",
      "int32\n",
      "40\n",
      "10\n",
      "(10,)\n"
     ]
    }
   ],
   "source": [
    "print(a.ndim) #dimensional\n",
    "print(a.itemsize) #byte size of each element\n",
    "print(a.dtype) #datatype of array\n",
    "print(a.size*a.itemsize) #memory occupied of whole array\n",
    "print(a.size)\n",
    "print(a.shape)"
   ]
  },
  {
   "cell_type": "markdown",
   "id": "30dba0df-93e0-4ea1-84b1-c3b17377cfca",
   "metadata": {},
   "source": [
    "# two dimensional"
   ]
  },
  {
   "cell_type": "code",
   "execution_count": 66,
   "id": "b13db743-a3c1-4132-bbcf-6a3946ed81dc",
   "metadata": {},
   "outputs": [
    {
     "name": "stdout",
     "output_type": "stream",
     "text": [
      "[[1 1 1]\n",
      " [2 2 2]]\n",
      "[[1 1]\n",
      " [1 2]\n",
      " [2 2]]\n",
      "1\n",
      "1\n"
     ]
    }
   ],
   "source": [
    "b=np.array([(1,1,1),(2,2,2)])\n",
    "print(b)\n",
    "b=b.reshape(3,2)\n",
    "print(b)\n",
    "print(b[1][0])  #both ways we can access\n",
    "print(b[1,0])"
   ]
  },
  {
   "cell_type": "code",
   "execution_count": 36,
   "id": "68daeeb2-a9b0-4875-9011-cef8b0206b04",
   "metadata": {},
   "outputs": [
    {
     "name": "stdout",
     "output_type": "stream",
     "text": [
      "9\n",
      "[9 3]\n"
     ]
    }
   ],
   "source": [
    "b=np.array([(7,9,9,2),(2,1,3,2)])\n",
    "print(b[0,2])\n",
    "print(b[0:,2]) "
   ]
  },
  {
   "cell_type": "code",
   "execution_count": 54,
   "id": "4608bc30-f6b5-48ae-a84a-02a44ee23a6c",
   "metadata": {},
   "outputs": [
    {
     "name": "stdout",
     "output_type": "stream",
     "text": [
      "1\n",
      "9\n",
      "[ 9 10 12  4]\n",
      "[27  8]\n",
      "[[2.64575131 3.         3.         1.41421356]\n",
      " [1.41421356 1.         1.73205081 1.41421356]]\n",
      "3.1598061649411346\n",
      "[[1.09663316e+03 8.10308393e+03 8.10308393e+03 7.38905610e+00]\n",
      " [7.38905610e+00 2.71828183e+00 2.00855369e+01 7.38905610e+00]]\n",
      "[[1.94591015 2.19722458 2.19722458 0.69314718]\n",
      " [0.69314718 0.         1.09861229 0.69314718]]\n",
      "[      -inf 0.         0.30103    0.47712125 0.60205999 0.69897\n",
      " 0.77815125 0.84509804 0.90308999 0.95424251]\n"
     ]
    },
    {
     "name": "stderr",
     "output_type": "stream",
     "text": [
      "C:\\Users\\shrin\\AppData\\Local\\Temp\\ipykernel_8676\\2402248254.py:9: RuntimeWarning: divide by zero encountered in log10\n",
      "  print(np.log10(a))\n"
     ]
    }
   ],
   "source": [
    "print(b.min())\n",
    "print(b.max())\n",
    "print(b.sum(axis=0)) # sum column wise \n",
    "print(b.sum(axis=1))  #sum row \n",
    "print(np.sqrt(b)) # square root of array \n",
    "print(np.std(b)) # standard deviation\n",
    "print(np.exp(b))  # exponent\n",
    "print(np.log(b))\n",
    "print(np.log10(a))"
   ]
  },
  {
   "cell_type": "code",
   "execution_count": 60,
   "id": "e1c5e947-6981-4dbd-ba37-2cfa67fbb148",
   "metadata": {},
   "outputs": [
    {
     "name": "stdout",
     "output_type": "stream",
     "text": [
      "[[7 9 9 1]\n",
      " [1 2 3 4]\n",
      " [4 3 2 1]\n",
      " [4 5 6 7]]\n",
      "[[7 9 9 1 4 3 2 1]\n",
      " [1 2 3 4 4 5 6 7]]\n",
      "[7 9 9 1 1 2 3 4]\n"
     ]
    }
   ],
   "source": [
    "b=np.array([(7,9,9,1),(1,2,3,4)])\n",
    "f=np.array([(4,3,2,1),(4,5,6,7)])\n",
    "print(np.vstack((b,f))) #vertical stack\n",
    "print(np.hstack((b,f))) #horizontal stack \n",
    "print(b.ravel()) #merge into single dimensional array"
   ]
  },
  {
   "cell_type": "markdown",
   "id": "68f867ac-1153-41b6-b745-aebd2f4139f6",
   "metadata": {},
   "source": [
    "# Three  dimensional array"
   ]
  },
  {
   "cell_type": "code",
   "execution_count": 63,
   "id": "3b852437-0b31-4819-90d3-5dd8c841cfb9",
   "metadata": {},
   "outputs": [
    {
     "name": "stdout",
     "output_type": "stream",
     "text": [
      "[[[1 2 3]\n",
      "  [4 5 6]]\n",
      "\n",
      " [[3 2 3]\n",
      "  [4 5 6]]]\n",
      "3\n"
     ]
    }
   ],
   "source": [
    "three=np.array([\n",
    "    [[1,2,3],[4,5,6]],\n",
    "    [[3,2,3],[4,5,6]],\n",
    "])\n",
    "print(three)\n",
    "print(three.ndim)"
   ]
  },
  {
   "cell_type": "markdown",
   "id": "47892854-ace4-403b-b393-6ef8eb6bc5df",
   "metadata": {},
   "source": [
    "## shape of all dimensions"
   ]
  },
  {
   "cell_type": "code",
   "execution_count": 69,
   "id": "04c91870-136b-4715-9874-451e1c56b8f0",
   "metadata": {},
   "outputs": [
    {
     "name": "stdout",
     "output_type": "stream",
     "text": [
      "(10,)\n",
      "(3, 2)\n",
      "(2, 2, 3)\n"
     ]
    }
   ],
   "source": [
    "print(a.shape)\n",
    "print(b.shape)\n",
    "print(three.shape)"
   ]
  },
  {
   "cell_type": "markdown",
   "id": "707c6217-d3eb-4ceb-a186-a78b6c87086d",
   "metadata": {},
   "source": [
    "## size"
   ]
  },
  {
   "cell_type": "code",
   "execution_count": 72,
   "id": "1fd05246-50cc-4845-8635-4a0cbcd37b5f",
   "metadata": {},
   "outputs": [
    {
     "name": "stdout",
     "output_type": "stream",
     "text": [
      "10\n",
      "6\n",
      "12\n"
     ]
    }
   ],
   "source": [
    "print(a.size)\n",
    "print(b.size)\n",
    "print(three.size)"
   ]
  },
  {
   "cell_type": "code",
   "execution_count": 80,
   "id": "17892542-c573-4582-a360-3a302881d4b4",
   "metadata": {},
   "outputs": [
    {
     "name": "stdout",
     "output_type": "stream",
     "text": [
      "1\n",
      "1\n",
      "1\n",
      "2\n",
      "2\n",
      "2\n"
     ]
    }
   ],
   "source": [
    "for i in b:\n",
    "    for j in i:\n",
    "        print(j)"
   ]
  },
  {
   "cell_type": "code",
   "execution_count": 76,
   "id": "92fb0446-6041-4ff6-8dc7-343fad54c652",
   "metadata": {},
   "outputs": [
    {
     "name": "stdout",
     "output_type": "stream",
     "text": [
      "1\n",
      "2\n",
      "3\n",
      "4\n",
      "5\n",
      "6\n",
      "3\n",
      "2\n",
      "3\n",
      "4\n",
      "5\n",
      "6\n"
     ]
    }
   ],
   "source": [
    "for i in three.ravel(): \n",
    "    print(i)"
   ]
  },
  {
   "cell_type": "code",
   "execution_count": 74,
   "id": "1861d941-9f06-4ef7-b5e0-c29fc186ba1e",
   "metadata": {},
   "outputs": [
    {
     "name": "stdout",
     "output_type": "stream",
     "text": [
      "1\n",
      "2\n",
      "3\n",
      "4\n",
      "5\n",
      "6\n",
      "3\n",
      "2\n",
      "3\n",
      "4\n",
      "5\n",
      "6\n"
     ]
    }
   ],
   "source": [
    "for i in three.flatten(): #convert to any dimensional to single dimensional\n",
    "    print(i)"
   ]
  },
  {
   "cell_type": "markdown",
   "id": "25538756-793e-49a2-9d67-6f2c3866c433",
   "metadata": {},
   "source": [
    "## filling arrays with specific values"
   ]
  },
  {
   "cell_type": "code",
   "execution_count": 83,
   "id": "42a6969d-06cd-4d8b-b969-35797f49fe7d",
   "metadata": {},
   "outputs": [],
   "source": [
    "#zeros"
   ]
  },
  {
   "cell_type": "code",
   "execution_count": 85,
   "id": "d4e729cd-b2df-423c-9c1a-3929fcd9e0ac",
   "metadata": {},
   "outputs": [
    {
     "name": "stdout",
     "output_type": "stream",
     "text": [
      "[0. 0. 0. 0. 0.]\n"
     ]
    }
   ],
   "source": [
    "zeros=np.zeros(5)  #return float \n",
    "print(zeros)"
   ]
  },
  {
   "cell_type": "code",
   "execution_count": 89,
   "id": "effc3a0c-a04b-4993-bed2-f0774f62a279",
   "metadata": {},
   "outputs": [
    {
     "name": "stdout",
     "output_type": "stream",
     "text": [
      "[1. 1. 1. 1. 1.]\n"
     ]
    }
   ],
   "source": [
    "#ones\n",
    "ones=np.ones(5)\n",
    "print(ones)"
   ]
  },
  {
   "cell_type": "code",
   "execution_count": 93,
   "id": "d71da5e8-6e30-4d67-a803-896e7f7fd267",
   "metadata": {},
   "outputs": [
    {
     "name": "stdout",
     "output_type": "stream",
     "text": [
      "[1 1 1 1 1]\n"
     ]
    }
   ],
   "source": [
    "#convert one datatype to another\n",
    "ones=ones.astype(int)    #return new copy of array \n",
    "print(ones)"
   ]
  },
  {
   "cell_type": "code",
   "execution_count": 99,
   "id": "15913014-a009-4c80-947f-cae25a018088",
   "metadata": {},
   "outputs": [
    {
     "name": "stdout",
     "output_type": "stream",
     "text": [
      "[5.6 6.6 7.6 8.6 9.6]\n"
     ]
    }
   ],
   "source": [
    "ranges=np.arange(5.6,9.8) #difference between range and aramge is arange support decimal values\n",
    "print(ranges)"
   ]
  },
  {
   "cell_type": "raw",
   "id": "85f42a32-cca4-49db-8a49-2c95dbca3ac5",
   "metadata": {},
   "source": [
    "#if you want to know detail about any method \n",
    "help(np.aranges())"
   ]
  },
  {
   "cell_type": "code",
   "execution_count": 103,
   "id": "7d85ad3a-3bbb-4eea-9781-9f508b99fae5",
   "metadata": {},
   "outputs": [
    {
     "name": "stdout",
     "output_type": "stream",
     "text": [
      "[3 4 5 6]\n"
     ]
    }
   ],
   "source": [
    "ad=np.array([1,2,3,4])\n",
    "print(ad+2) #adds 2 to each element"
   ]
  },
  {
   "cell_type": "code",
   "execution_count": 107,
   "id": "1b314cea-8212-4172-88af-97d77f5c991f",
   "metadata": {},
   "outputs": [
    {
     "name": "stdout",
     "output_type": "stream",
     "text": [
      "[[1 1 2]\n",
      " [1 2 2]]\n"
     ]
    }
   ],
   "source": [
    "print(b.T) #transpose (convert row to column)"
   ]
  },
  {
   "cell_type": "code",
   "execution_count": 119,
   "id": "eb016b2d-15e1-4e80-846c-051f580f9dd3",
   "metadata": {},
   "outputs": [
    {
     "name": "stdout",
     "output_type": "stream",
     "text": [
      "Adding default values\n",
      "[5 5 5 5 5 5 5 5 5 5]\n",
      "[[10 10]\n",
      " [10 10]]\n",
      "[[[10 10]\n",
      "  [10 10]]\n",
      "\n",
      " [[10 10]\n",
      "  [10 10]]]\n"
     ]
    }
   ],
   "source": [
    "print(\"Adding default values\")\n",
    "print(np.full(10,5))\n",
    "print(np.full((2,2),10))\n",
    "print(np.full((2,2,2),10))"
   ]
  },
  {
   "cell_type": "code",
   "execution_count": 123,
   "id": "95f426fa-90cf-4fd8-9c88-119ff1dadf15",
   "metadata": {},
   "outputs": [
    {
     "name": "stdout",
     "output_type": "stream",
     "text": [
      "[[10, 10], [2, 1], [10, 10], [2, 1]]\n"
     ]
    }
   ],
   "source": [
    "list1=[[10,10],[2,1]]\n",
    "list2=[[10,10],[2,1]]\n",
    "print(list1+list2)   #concat it will return new list by concatanating elements"
   ]
  },
  {
   "cell_type": "code",
   "execution_count": 129,
   "id": "51adaa00-1b3a-4f29-bc8f-0f77585605f4",
   "metadata": {},
   "outputs": [
    {
     "name": "stdout",
     "output_type": "stream",
     "text": [
      "[[11 12]\n",
      " [ 5  7]]\n",
      "[[ 3  6]\n",
      " [-3 -3]]\n",
      "[[64 66]\n",
      " [12 13]]\n"
     ]
    }
   ],
   "source": [
    "m1=np.array([[7,9],[1,2]])\n",
    "m2=np.array([[4,3],[4,5]])\n",
    "print(m1+m2)\n",
    "print(m1-m2)\n",
    "print(np.matmul(m1,m2))"
   ]
  },
  {
   "cell_type": "markdown",
   "id": "85c05c60-50b1-4203-a15c-287fd0dba5c2",
   "metadata": {},
   "source": [
    "# statitics"
   ]
  },
  {
   "cell_type": "code",
   "execution_count": 144,
   "id": "84390595-094d-4e79-8016-2a1e8aa2ceaf",
   "metadata": {},
   "outputs": [
    {
     "name": "stdout",
     "output_type": "stream",
     "text": [
      "1\n",
      "44\n",
      "196\n"
     ]
    }
   ],
   "source": [
    "marks=np.array([[20,30,40],[1,2,3],[11,2,7],[3,33,44]])\n",
    "print(marks.min())\n",
    "print(marks.max())\n",
    "print(marks.sum())\n",
    "print(marks.mean())\n",
    "print(marks.std())\n"
   ]
  },
  {
   "cell_type": "markdown",
   "id": "c72d2cfd-8d01-442e-8162-c8221239acef",
   "metadata": {},
   "source": [
    "### axis 1 = row wise"
   ]
  },
  {
   "cell_type": "code",
   "execution_count": 149,
   "id": "489e339f-ded6-4977-99ed-3495aea0c37b",
   "metadata": {},
   "outputs": [
    {
     "name": "stdout",
     "output_type": "stream",
     "text": [
      "[20  1  2  3]\n",
      "[40  3 11 44]\n",
      "[90  6 20 80]\n",
      "[30.          2.          6.66666667 26.66666667]\n",
      "[ 8.16496581  0.81649658  3.68178701 17.32692189]\n"
     ]
    }
   ],
   "source": [
    "print(marks.min(axis=1))\n",
    "print(marks.max(axis=1))\n",
    "print(marks.sum(axis=1))\n",
    "print(marks.mean(axis=1))\n",
    "print(marks.std(axis=1))\n"
   ]
  },
  {
   "cell_type": "code",
   "execution_count": 151,
   "id": "4e722876-d2e1-4588-a795-56c94909d0bf",
   "metadata": {},
   "outputs": [
    {
     "name": "stdout",
     "output_type": "stream",
     "text": [
      "[1 2 3]\n",
      "[20 33 44]\n",
      "[35 67 94]\n",
      "[ 8.75 16.75 23.5 ]\n",
      "[ 7.49583218 14.78808642 18.60779407]\n"
     ]
    }
   ],
   "source": [
    "print(marks.min(axis=0))\n",
    "print(marks.max(axis=0))\n",
    "print(marks.sum(axis=0))\n",
    "print(marks.mean(axis=0))\n",
    "print(marks.std(axis=0))\n"
   ]
  },
  {
   "cell_type": "code",
   "execution_count": 163,
   "id": "c380970d-7f27-4cfb-accc-e7597bcb0feb",
   "metadata": {},
   "outputs": [
    {
     "name": "stdout",
     "output_type": "stream",
     "text": [
      "1\n"
     ]
    }
   ],
   "source": [
    "arr1=np.array([[20,30,40],[1,2,3],[11,2,7],[3,33,44]])\n",
    "arr2=np.append(arr1,(5,6,7)) #it will take existing array and add new values and return new array of single dimnesion\n",
    "print(arr2.ndim)"
   ]
  },
  {
   "cell_type": "code",
   "execution_count": 173,
   "id": "a42a56aa-e0e2-43be-abf8-624fc0303399",
   "metadata": {},
   "outputs": [
    {
     "data": {
      "text/plain": [
       "array([[ 2,  3, 30, 40],\n",
       "       [45,  6,  1,  2]])"
      ]
     },
     "execution_count": 173,
     "metadata": {},
     "output_type": "execute_result"
    }
   ],
   "source": [
    "new_array=np.array([1,2])\n",
    "x=np.append([[2,3],[45,6]],[[30,40],new_array],axis=1)\n",
    "x"
   ]
  },
  {
   "cell_type": "code",
   "execution_count": 181,
   "id": "0348c17f-d969-4821-9f2a-1ead9fee24fb",
   "metadata": {},
   "outputs": [
    {
     "name": "stdout",
     "output_type": "stream",
     "text": [
      "[0 1 2 3 4 5 6]\n",
      "[False False False False False  True  True]\n",
      "[5 6]\n"
     ]
    }
   ],
   "source": [
    "arr3=np.arange(7)\n",
    "print(arr3)\n",
    "print(arr3>4)\n",
    "print(arr3[arr3>4])"
   ]
  },
  {
   "cell_type": "code",
   "execution_count": 183,
   "id": "b451f501-bbfa-4761-bfaf-33c04f82b013",
   "metadata": {},
   "outputs": [
    {
     "data": {
      "text/plain": [
       "array([[19, 10, 16, 12, 14],\n",
       "       [17, 17, 12, 14, 14],\n",
       "       [16, 10, 13, 18, 16],\n",
       "       [10, 13, 18, 14, 12],\n",
       "       [13, 19, 14, 12, 14]])"
      ]
     },
     "execution_count": 183,
     "metadata": {},
     "output_type": "execute_result"
    }
   ],
   "source": [
    "np.random.randint(10,20,(5,5)) #5*5 matrix with values from 10 to 20 randomly"
   ]
  },
  {
   "cell_type": "code",
   "execution_count": 187,
   "id": "e829041a-6af5-4e3c-a8c6-4fa037c9f978",
   "metadata": {},
   "outputs": [
    {
     "data": {
      "text/plain": [
       "array(['o', 'o', 'e', 'o', 'a'], dtype='<U1')"
      ]
     },
     "execution_count": 187,
     "metadata": {},
     "output_type": "execute_result"
    }
   ],
   "source": [
    "letters=['a','e','o','u','i']\n",
    "np.random.choice(letters,5) #return many occurances of one letter"
   ]
  },
  {
   "cell_type": "code",
   "execution_count": 189,
   "id": "f51a1fa6-d67c-4f36-ab48-fa4977fd78d6",
   "metadata": {},
   "outputs": [
    {
     "data": {
      "text/plain": [
       "array(['o', 'i', 'e', 'u', 'a'], dtype='<U1')"
      ]
     },
     "execution_count": 189,
     "metadata": {},
     "output_type": "execute_result"
    }
   ],
   "source": [
    "np.random.choice(letters,5,replace=False) #it will not return many occurances of one letter"
   ]
  },
  {
   "cell_type": "code",
   "execution_count": 197,
   "id": "5ce428fe-8b1d-476f-91e5-f829a9d6085e",
   "metadata": {},
   "outputs": [
    {
     "data": {
      "text/plain": [
       "array(['o', 'a', 'e', 'a', 'a', 'u', 'u', 'a', 'a', 'a', 'i', 'u', 'e',\n",
       "       'a', 'o'], dtype='<U1')"
      ]
     },
     "execution_count": 197,
     "metadata": {},
     "output_type": "execute_result"
    }
   ],
   "source": [
    "np.random.choice(letters,15,p=[0.4,0.1,0.1,0.3,0.1]) #probabilty for each letter  it should sum up to 1"
   ]
  },
  {
   "cell_type": "code",
   "execution_count": 199,
   "id": "51653791-8604-4e29-a828-f3e00b9e901f",
   "metadata": {},
   "outputs": [],
   "source": [
    "array=np.random.randint(10,20,(5,5))\n",
    "np.save('array_file',array) #default extension is .npy"
   ]
  },
  {
   "cell_type": "code",
   "execution_count": 203,
   "id": "79ba77d2-e89d-46c7-8131-f984dc2eea64",
   "metadata": {},
   "outputs": [
    {
     "name": "stdout",
     "output_type": "stream",
     "text": [
      "[[15 18 13 16 15]\n",
      " [19 16 16 13 16]\n",
      " [16 13 13 18 17]\n",
      " [11 16 17 17 12]\n",
      " [17 13 10 10 17]]\n"
     ]
    }
   ],
   "source": [
    "array2=np.load('array_file.npy')\n",
    "print(array2)"
   ]
  },
  {
   "cell_type": "code",
   "execution_count": null,
   "id": "d67a4e0a-7488-4be1-90cc-b6c4be32de58",
   "metadata": {},
   "outputs": [],
   "source": []
  }
 ],
 "metadata": {
  "kernelspec": {
   "display_name": "Python [conda env:base] *",
   "language": "python",
   "name": "conda-base-py"
  },
  "language_info": {
   "codemirror_mode": {
    "name": "ipython",
    "version": 3
   },
   "file_extension": ".py",
   "mimetype": "text/x-python",
   "name": "python",
   "nbconvert_exporter": "python",
   "pygments_lexer": "ipython3",
   "version": "3.12.7"
  }
 },
 "nbformat": 4,
 "nbformat_minor": 5
}

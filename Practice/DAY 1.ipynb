{
 "cells": [
  {
   "cell_type": "markdown",
   "id": "b9623e4b-810b-48a5-9e17-657b33c826cb",
   "metadata": {},
   "source": [
    "# Factorial series"
   ]
  },
  {
   "cell_type": "code",
   "execution_count": 10,
   "id": "7a8a4603-c5a5-4584-ac6a-039d71b19d85",
   "metadata": {},
   "outputs": [
    {
     "name": "stdin",
     "output_type": "stream",
     "text": [
      "Enter no: 3\n"
     ]
    },
    {
     "name": "stdout",
     "output_type": "stream",
     "text": [
      "Factorial of number is 6\n"
     ]
    }
   ],
   "source": [
    "# simple\n",
    "n=int(input(\"Enter no:\"))\n",
    "fact = 1\n",
    "for i in range(1,n+1):\n",
    "    fact = fact*i\n",
    "\n",
    "print(f\"Factorial of number is\",fact)"
   ]
  },
  {
   "cell_type": "code",
   "execution_count": 40,
   "id": "ded4c7f0-33d8-44e4-a1f8-098d126af7fa",
   "metadata": {},
   "outputs": [
    {
     "name": "stdin",
     "output_type": "stream",
     "text": [
      "Entar no: 0\n"
     ]
    },
    {
     "name": "stdout",
     "output_type": "stream",
     "text": [
      "Factorial of number is 1\n"
     ]
    }
   ],
   "source": [
    "class Fact:\n",
    "    def __init__(self,no):\n",
    "        self.no=no\n",
    "    def f(self):\n",
    "        fact = 1\n",
    "        for i in range(1,self.no+1):\n",
    "            fact *= i\n",
    "        print(f\"Factorial of number is\",fact)\n",
    "\n",
    "no = int(input(\"Entar no:\"))\n",
    "s4=Fact(no)\n",
    "s4.f()"
   ]
  },
  {
   "cell_type": "code",
   "execution_count": 48,
   "id": "837bec47-aa58-4b61-8a20-ef2dfb2b874d",
   "metadata": {},
   "outputs": [
    {
     "name": "stdin",
     "output_type": "stream",
     "text": [
      "Enter no: 3\n"
     ]
    },
    {
     "name": "stdout",
     "output_type": "stream",
     "text": [
      "Factorial!: 3 is: 6\n"
     ]
    }
   ],
   "source": [
    "def fac(n):\n",
    "    return 1 if (n==0 or n==1) else n * fac(n-1)\n",
    "n = int(input(\"Enter no:\"))\n",
    "print(F\"Factorial!:\",n,\"is:\",fac(n))"
   ]
  },
  {
   "cell_type": "code",
   "execution_count": 54,
   "id": "1361a477-e86c-45f4-b327-b398881b8236",
   "metadata": {},
   "outputs": [
    {
     "name": "stdin",
     "output_type": "stream",
     "text": [
      "enter 3\n"
     ]
    },
    {
     "name": "stdout",
     "output_type": "stream",
     "text": [
      "Factorial!: 3 is: 6\n"
     ]
    }
   ],
   "source": [
    "import math\n",
    "\n",
    "def factorial(num):\n",
    "    return(math.factorial(num))\n",
    "\n",
    "num = int(input(\"enter\"))\n",
    "print(F\"Factorial!:\",num,\"is:\",factorial(num))"
   ]
  },
  {
   "cell_type": "code",
   "execution_count": 60,
   "id": "c41997a6-a4d2-4f7b-bad6-5c7c3dad9983",
   "metadata": {},
   "outputs": [
    {
     "name": "stdin",
     "output_type": "stream",
     "text": [
      "enter 3\n"
     ]
    },
    {
     "ename": "UnboundLocalError",
     "evalue": "cannot access local variable 'n' where it is not associated with a value",
     "output_type": "error",
     "traceback": [
      "\u001b[1;31m---------------------------------------------------------------------------\u001b[0m",
      "\u001b[1;31mUnboundLocalError\u001b[0m                         Traceback (most recent call last)",
      "Cell \u001b[1;32mIn[60], line 28\u001b[0m\n\u001b[0;32m     25\u001b[0m     \u001b[38;5;28;01mreturn\u001b[39;00m result\n\u001b[0;32m     27\u001b[0m noo\u001b[38;5;241m=\u001b[39m\u001b[38;5;28mint\u001b[39m(\u001b[38;5;28minput\u001b[39m(\u001b[38;5;124m\"\u001b[39m\u001b[38;5;124menter\u001b[39m\u001b[38;5;124m\"\u001b[39m))\n\u001b[1;32m---> 28\u001b[0m \u001b[38;5;28mprint\u001b[39m(\u001b[38;5;124mF\u001b[39m\u001b[38;5;124m\"\u001b[39m\u001b[38;5;124mFactorial!:\u001b[39m\u001b[38;5;124m\"\u001b[39m,noo,\u001b[38;5;124m\"\u001b[39m\u001b[38;5;124mis:\u001b[39m\u001b[38;5;124m\"\u001b[39m,factoo(noo))\n",
      "Cell \u001b[1;32mIn[60], line 22\u001b[0m, in \u001b[0;36mfactoo\u001b[1;34m(noo)\u001b[0m\n\u001b[0;32m     20\u001b[0m result \u001b[38;5;241m=\u001b[39m \u001b[38;5;241m1\u001b[39m\n\u001b[0;32m     21\u001b[0m \u001b[38;5;28;01mfor\u001b[39;00m i \u001b[38;5;129;01min\u001b[39;00m \u001b[38;5;28mrange\u001b[39m(\u001b[38;5;241m2\u001b[39m,n\u001b[38;5;241m+\u001b[39m\u001b[38;5;241m1\u001b[39m):\n\u001b[1;32m---> 22\u001b[0m     facti \u001b[38;5;241m=\u001b[39m Pfact(i)\n\u001b[0;32m     23\u001b[0m     \u001b[38;5;28;01mfor\u001b[39;00m p \u001b[38;5;129;01min\u001b[39;00m facti:\n\u001b[0;32m     24\u001b[0m         result \u001b[38;5;241m*\u001b[39m\u001b[38;5;241m=\u001b[39m p \u001b[38;5;241m*\u001b[39m\u001b[38;5;241m*\u001b[39m facti[p]\n",
      "Cell \u001b[1;32mIn[60], line 6\u001b[0m, in \u001b[0;36mPfact\u001b[1;34m(noo)\u001b[0m\n\u001b[0;32m      4\u001b[0m facti\u001b[38;5;241m=\u001b[39m{}\n\u001b[0;32m      5\u001b[0m i\u001b[38;5;241m=\u001b[39m\u001b[38;5;241m2\u001b[39m\n\u001b[1;32m----> 6\u001b[0m \u001b[38;5;28;01mwhile\u001b[39;00m i\u001b[38;5;241m*\u001b[39mi \u001b[38;5;241m<\u001b[39m\u001b[38;5;241m=\u001b[39m n:\n\u001b[0;32m      7\u001b[0m     \u001b[38;5;28;01mwhile\u001b[39;00m n \u001b[38;5;241m%\u001b[39m i \u001b[38;5;241m==\u001b[39m \u001b[38;5;241m0\u001b[39m:\n\u001b[0;32m      8\u001b[0m         \u001b[38;5;28;01mif\u001b[39;00m i \u001b[38;5;129;01mnot\u001b[39;00m \u001b[38;5;129;01min\u001b[39;00m facti:\n",
      "\u001b[1;31mUnboundLocalError\u001b[0m: cannot access local variable 'n' where it is not associated with a value"
     ]
    }
   ],
   "source": [
    "# Prime factorization method to find fact\n",
    "\n",
    "def Pfact(noo):\n",
    "    facti={}\n",
    "    i=2\n",
    "    while i*i <= n:\n",
    "        while n % i == 0:\n",
    "            if i not in facti:\n",
    "                facti[i]=0\n",
    "            facti[i] += 1\n",
    "            n//=i\n",
    "        i += 1\n",
    "    if n > 1:\n",
    "        if n not in facti:\n",
    "            facti[n]=0\n",
    "        fcati[n]+=1\n",
    "    return facti\n",
    "\n",
    "def factoo(noo):\n",
    "    result = 1\n",
    "    for i in range(2,n+1):\n",
    "        facti = Pfact(i)\n",
    "        for p in facti:\n",
    "            result *= p ** facti[p]\n",
    "    return result\n",
    "\n",
    "noo=int(input(\"enter\"))\n",
    "print(F\"Factorial!:\",noo,\"is:\",factoo(noo))"
   ]
  },
  {
   "cell_type": "code",
   "execution_count": null,
   "id": "0589d9ac-d2f6-4f2f-8e80-6d6f23bddca7",
   "metadata": {},
   "outputs": [],
   "source": [
    "def Pfact(noo):\n",
    "    facti = {}\n",
    "    i = 2\n",
    "    while i * i <= noo:  # Use noo instead of undefined 'n'\n",
    "        while noo % i == 0:\n",
    "            if i not in facti:\n",
    "                facti[i] = 0\n",
    "            facti[i] += 1\n",
    "            noo //= i\n",
    "        i += 1\n",
    "    if noo > 1:\n",
    "        if noo not in facti:\n",
    "            facti[noo] = 0\n",
    "        facti[noo] += 1  # Fixed typo (facti instead of fcati)\n",
    "    return facti\n",
    "\n",
    "def factoo(noo):\n",
    "    result = 1\n",
    "    for i in range(2, noo + 1):  # Use 'noo' instead of undefined 'n'\n",
    "        facti = Pfact(i)\n",
    "        for p in facti:\n",
    "            result *= p ** facti[p]\n",
    "    return result\n",
    "\n",
    "# Get user input\n",
    "noo = int(input(\"Enter a number: \"))\n",
    "\n",
    "# Print factorial result\n",
    "print(f\"Factorial of {noo} is: {factoo(noo)}\")  # Fixed f-string formatting\n"
   ]
  }
 ],
 "metadata": {
  "kernelspec": {
   "display_name": "Python [conda env:base] *",
   "language": "python",
   "name": "conda-base-py"
  },
  "language_info": {
   "codemirror_mode": {
    "name": "ipython",
    "version": 3
   },
   "file_extension": ".py",
   "mimetype": "text/x-python",
   "name": "python",
   "nbconvert_exporter": "python",
   "pygments_lexer": "ipython3",
   "version": "3.12.7"
  }
 },
 "nbformat": 4,
 "nbformat_minor": 5
}

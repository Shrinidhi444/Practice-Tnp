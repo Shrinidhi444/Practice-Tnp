{
 "cells": [
  {
   "cell_type": "code",
   "execution_count": 5,
   "id": "7a5670f6-825b-4e7e-832d-032a26053a48",
   "metadata": {},
   "outputs": [
    {
     "name": "stdout",
     "output_type": "stream",
     "text": [
      "Hello World!!\n"
     ]
    }
   ],
   "source": [
    "print(\"Hello World!!\")"
   ]
  },
  {
   "cell_type": "code",
   "execution_count": 7,
   "id": "ee8c159d-45c9-4a87-9616-5c18222b5dd7",
   "metadata": {},
   "outputs": [
    {
     "data": {
      "text/plain": [
       "'Hello!!'"
      ]
     },
     "execution_count": 7,
     "metadata": {},
     "output_type": "execute_result"
    }
   ],
   "source": [
    "\"Hello!!\""
   ]
  },
  {
   "cell_type": "code",
   "execution_count": 11,
   "id": "72728ba6-cfd9-4167-a16c-ae87f32fb1c4",
   "metadata": {},
   "outputs": [
    {
     "name": "stdout",
     "output_type": "stream",
     "text": [
      "I am shri.\n",
      " from Edunet\n",
      "\n",
      "\n",
      "It gives a new line space\n"
     ]
    }
   ],
   "source": [
    "print('I am shri.\\n from Edunet')\n",
    "print('\\n')\n",
    "print('It gives a new line space')"
   ]
  },
  {
   "cell_type": "code",
   "execution_count": 13,
   "id": "d87aecc4-af8d-4ef5-a33c-05f17d73fb45",
   "metadata": {},
   "outputs": [
    {
     "data": {
      "text/plain": [
       "5"
      ]
     },
     "execution_count": 13,
     "metadata": {},
     "output_type": "execute_result"
    }
   ],
   "source": [
    "len('Hello')"
   ]
  },
  {
   "cell_type": "code",
   "execution_count": 15,
   "id": "3dcba9f2-2a4e-4175-828b-88d0528fba6a",
   "metadata": {},
   "outputs": [
    {
     "data": {
      "text/plain": [
       "25"
      ]
     },
     "execution_count": 15,
     "metadata": {},
     "output_type": "execute_result"
    }
   ],
   "source": [
    "len('It gives a new line space')"
   ]
  },
  {
   "cell_type": "code",
   "execution_count": 17,
   "id": "7a5fa845-15e0-4faf-9ff2-b12fad5b0f93",
   "metadata": {},
   "outputs": [],
   "source": [
    "st1=\"Shrinidhi\""
   ]
  },
  {
   "cell_type": "code",
   "execution_count": 19,
   "id": "f8623a84-1d2e-431c-89af-d43cc1a10741",
   "metadata": {},
   "outputs": [
    {
     "data": {
      "text/plain": [
       "'r'"
      ]
     },
     "execution_count": 19,
     "metadata": {},
     "output_type": "execute_result"
    }
   ],
   "source": [
    "st1[2]"
   ]
  },
  {
   "cell_type": "code",
   "execution_count": 21,
   "id": "df750a8e-4254-4a45-a7aa-8b1dedb161f2",
   "metadata": {},
   "outputs": [
    {
     "data": {
      "text/plain": [
       "9"
      ]
     },
     "execution_count": 21,
     "metadata": {},
     "output_type": "execute_result"
    }
   ],
   "source": [
    "len(st1)"
   ]
  },
  {
   "cell_type": "code",
   "execution_count": 23,
   "id": "7f1a0b58-efea-4750-853b-3d22fe439e59",
   "metadata": {},
   "outputs": [
    {
     "data": {
      "text/plain": [
       "'h'"
      ]
     },
     "execution_count": 23,
     "metadata": {},
     "output_type": "execute_result"
    }
   ],
   "source": [
    "st1[7]"
   ]
  },
  {
   "cell_type": "code",
   "execution_count": 27,
   "id": "f9876e1c-b50d-4632-bd91-2a716e9eefc2",
   "metadata": {},
   "outputs": [
    {
     "data": {
      "text/plain": [
       "'i'"
      ]
     },
     "execution_count": 27,
     "metadata": {},
     "output_type": "execute_result"
    }
   ],
   "source": [
    "st1[8]"
   ]
  },
  {
   "cell_type": "code",
   "execution_count": 29,
   "id": "3d29065f-a290-4ab0-80ba-037d8e8a0017",
   "metadata": {},
   "outputs": [
    {
     "data": {
      "text/plain": [
       "'hrinidhi'"
      ]
     },
     "execution_count": 29,
     "metadata": {},
     "output_type": "execute_result"
    }
   ],
   "source": [
    "st1[1:]"
   ]
  },
  {
   "cell_type": "code",
   "execution_count": 33,
   "id": "9236f35b-b9d1-4e03-b2eb-c9db35a1b95f",
   "metadata": {},
   "outputs": [
    {
     "data": {
      "text/plain": [
       "'Shri'"
      ]
     },
     "execution_count": 33,
     "metadata": {},
     "output_type": "execute_result"
    }
   ],
   "source": [
    "st1[0:4]"
   ]
  },
  {
   "cell_type": "code",
   "execution_count": 35,
   "id": "32cd29ad-5342-4d00-addf-e6ee95e8a510",
   "metadata": {},
   "outputs": [
    {
     "data": {
      "text/plain": [
       "'Shrinidhi'"
      ]
     },
     "execution_count": 35,
     "metadata": {},
     "output_type": "execute_result"
    }
   ],
   "source": [
    "st1[:]"
   ]
  },
  {
   "cell_type": "code",
   "execution_count": 37,
   "id": "144cd7d7-e4a0-45a8-aab3-ebd434b2c369",
   "metadata": {},
   "outputs": [
    {
     "data": {
      "text/plain": [
       "'Shrinidhi  Pandit'"
      ]
     },
     "execution_count": 37,
     "metadata": {},
     "output_type": "execute_result"
    }
   ],
   "source": [
    "st1+'  Pandit'"
   ]
  },
  {
   "cell_type": "code",
   "execution_count": 39,
   "id": "c4a4eb75-177d-4f71-9728-63647108afd5",
   "metadata": {},
   "outputs": [
    {
     "data": {
      "text/plain": [
       "'Srndi'"
      ]
     },
     "execution_count": 39,
     "metadata": {},
     "output_type": "execute_result"
    }
   ],
   "source": [
    "st1[0:9:2]"
   ]
  },
  {
   "cell_type": "code",
   "execution_count": 41,
   "id": "6e71ff9e-501c-4c57-879c-99c54129cf1e",
   "metadata": {},
   "outputs": [
    {
     "data": {
      "text/plain": [
       "'SHRINIDHI'"
      ]
     },
     "execution_count": 41,
     "metadata": {},
     "output_type": "execute_result"
    }
   ],
   "source": [
    "st1.upper()"
   ]
  },
  {
   "cell_type": "code",
   "execution_count": 43,
   "id": "6d81cbef-fa09-4b19-99ea-c9e45460c8b1",
   "metadata": {},
   "outputs": [
    {
     "data": {
      "text/plain": [
       "'shrinidhi'"
      ]
     },
     "execution_count": 43,
     "metadata": {},
     "output_type": "execute_result"
    }
   ],
   "source": [
    "st1.lower()"
   ]
  },
  {
   "cell_type": "code",
   "execution_count": 45,
   "id": "b9f7ec00-9b8b-4ddf-86c9-149476a23f92",
   "metadata": {},
   "outputs": [
    {
     "data": {
      "text/plain": [
       "['Shrinidhi']"
      ]
     },
     "execution_count": 45,
     "metadata": {},
     "output_type": "execute_result"
    }
   ],
   "source": [
    "st1.split()"
   ]
  },
  {
   "cell_type": "code",
   "execution_count": 47,
   "id": "69459dc4-5b22-4b74-ab7f-996e6d33915a",
   "metadata": {},
   "outputs": [
    {
     "name": "stdout",
     "output_type": "stream",
     "text": [
      "Enter names here sak then also urvi\n"
     ]
    }
   ],
   "source": [
    "print('Enter names here {} then also {}' .format('sak','urvi'))"
   ]
  },
  {
   "cell_type": "code",
   "execution_count": 53,
   "id": "ac37b5ae-a0e8-45c0-b343-dff54882cbe0",
   "metadata": {},
   "outputs": [
    {
     "name": "stdout",
     "output_type": "stream",
     "text": [
      "the colours are red red black\n"
     ]
    }
   ],
   "source": [
    "print('the colours are {2} {0} {1}' .format('red','black','red'))"
   ]
  },
  {
   "cell_type": "code",
   "execution_count": 55,
   "id": "5e140feb-b262-4201-8a65-af0692f897f2",
   "metadata": {},
   "outputs": [
    {
     "name": "stdout",
     "output_type": "stream",
     "text": [
      "First: 1, second: two, third: 3\n"
     ]
    }
   ],
   "source": [
    "print('First: {a}, second: {b}, third: {c}' .format(a=1,b=\"two\",c=3))"
   ]
  },
  {
   "cell_type": "code",
   "execution_count": 67,
   "id": "8587d872-b5cb-4b2c-bbc8-5da9aa69d08d",
   "metadata": {},
   "outputs": [
    {
     "name": "stdin",
     "output_type": "stream",
     "text": [
      "Enter name: shri\n"
     ]
    },
    {
     "name": "stdout",
     "output_type": "stream",
     "text": [
      "Name:shri\n"
     ]
    }
   ],
   "source": [
    "print('Name:{}'.format(input(\"Enter name:\")))"
   ]
  },
  {
   "cell_type": "code",
   "execution_count": 69,
   "id": "c70c0514-4ba9-4e0e-a1e7-9f409e14bced",
   "metadata": {},
   "outputs": [
    {
     "data": {
      "text/plain": [
       "['shri', 1, 2, 3, 4, 5, 6, 7, 8]"
      ]
     },
     "execution_count": 69,
     "metadata": {},
     "output_type": "execute_result"
    }
   ],
   "source": [
    "My_list=[\"shri\",1,2,3,4,5,6,7,8]\n",
    "My_list"
   ]
  },
  {
   "cell_type": "code",
   "execution_count": 71,
   "id": "502e8275-cdd5-440b-8a83-a96573885ba2",
   "metadata": {},
   "outputs": [
    {
     "data": {
      "text/plain": [
       "[3, 4, 5, 6, 7, 8]"
      ]
     },
     "execution_count": 71,
     "metadata": {},
     "output_type": "execute_result"
    }
   ],
   "source": [
    "My_list[3:]"
   ]
  },
  {
   "cell_type": "code",
   "execution_count": 73,
   "id": "ba759b0a-3ea1-4d29-bef5-ca38490edb13",
   "metadata": {},
   "outputs": [
    {
     "data": {
      "text/plain": [
       "['shri', 2, 4, 6]"
      ]
     },
     "execution_count": 73,
     "metadata": {},
     "output_type": "execute_result"
    }
   ],
   "source": [
    "My_list[0:8:2]"
   ]
  },
  {
   "cell_type": "code",
   "execution_count": 75,
   "id": "761b5a3b-3cf4-4e14-89f7-c4e0be2d18bd",
   "metadata": {},
   "outputs": [
    {
     "data": {
      "text/plain": [
       "['shri', 1, 2, 3, 4, 5, 6, 7, 8, 'New_item']"
      ]
     },
     "execution_count": 75,
     "metadata": {},
     "output_type": "execute_result"
    }
   ],
   "source": [
    "My_list + [\"New_item\"]"
   ]
  },
  {
   "cell_type": "code",
   "execution_count": 77,
   "id": "979c93f7-0952-4857-b6a3-b383d373d831",
   "metadata": {},
   "outputs": [
    {
     "name": "stdin",
     "output_type": "stream",
     "text": [
      "Enter new item Nidhi\n"
     ]
    },
    {
     "data": {
      "text/plain": [
       "['shri', 1, 2, 3, 4, 5, 6, 7, 8, 'Nidhi']"
      ]
     },
     "execution_count": 77,
     "metadata": {},
     "output_type": "execute_result"
    }
   ],
   "source": [
    "My_list + [input(\"Enter new item\")]"
   ]
  },
  {
   "cell_type": "code",
   "execution_count": 81,
   "id": "b1fcb4c9-8b19-43cd-8805-ba9bdad23424",
   "metadata": {},
   "outputs": [],
   "source": [
    "new_list=[9,10]"
   ]
  },
  {
   "cell_type": "code",
   "execution_count": 83,
   "id": "33db1e85-57f3-46e8-beb5-dc890b6ff059",
   "metadata": {},
   "outputs": [
    {
     "data": {
      "text/plain": [
       "[9, 10, 'append']"
      ]
     },
     "execution_count": 83,
     "metadata": {},
     "output_type": "execute_result"
    }
   ],
   "source": [
    "new_list.append('append')\n",
    "new_list"
   ]
  },
  {
   "cell_type": "code",
   "execution_count": 85,
   "id": "26dedbcc-d5f9-45ee-8bf5-4b20435d8c10",
   "metadata": {},
   "outputs": [
    {
     "data": {
      "text/plain": [
       "[9, 10, 'append', ['shri', 1, 2, 3, 4, 5, 6, 7, 8]]"
      ]
     },
     "execution_count": 85,
     "metadata": {},
     "output_type": "execute_result"
    }
   ],
   "source": [
    "new_list.append(My_list)\n",
    "new_list"
   ]
  },
  {
   "cell_type": "code",
   "execution_count": 89,
   "id": "06a6d3fc-93c8-4a1a-8390-c3427d923fbb",
   "metadata": {},
   "outputs": [],
   "source": [
    "new_list=[9,10]"
   ]
  },
  {
   "cell_type": "code",
   "execution_count": 91,
   "id": "f183d1a7-617d-473f-be51-662d076e0ad3",
   "metadata": {},
   "outputs": [
    {
     "data": {
      "text/plain": [
       "10"
      ]
     },
     "execution_count": 91,
     "metadata": {},
     "output_type": "execute_result"
    }
   ],
   "source": [
    "new_list.pop(1)"
   ]
  },
  {
   "cell_type": "code",
   "execution_count": 93,
   "id": "4fa0eacf-c2f6-463e-bcfa-08950e929ede",
   "metadata": {},
   "outputs": [
    {
     "data": {
      "text/plain": [
       "{'key1': 'v1', 'key2': 'v2', 'key3': 'v3'}"
      ]
     },
     "execution_count": 93,
     "metadata": {},
     "output_type": "execute_result"
    }
   ],
   "source": [
    "Dict={'key1':'v1','key2':'v2','key3':'v3'}\n",
    "Dict"
   ]
  },
  {
   "cell_type": "code",
   "execution_count": 95,
   "id": "46bd4615-58e3-4d77-a6a1-3372a3414411",
   "metadata": {},
   "outputs": [
    {
     "data": {
      "text/plain": [
       "'v2'"
      ]
     },
     "execution_count": 95,
     "metadata": {},
     "output_type": "execute_result"
    }
   ],
   "source": [
    "Dict['key2']"
   ]
  },
  {
   "cell_type": "code",
   "execution_count": 99,
   "id": "194c6a6c-6127-4ff2-a8dc-642cb5d114fe",
   "metadata": {},
   "outputs": [
    {
     "data": {
      "text/plain": [
       "{'k1': 123, 'k2': [1, 2, 3], 'k3': ['shri', 'adu']}"
      ]
     },
     "execution_count": 99,
     "metadata": {},
     "output_type": "execute_result"
    }
   ],
   "source": [
    "D={'k1':123,'k2':[1,2,3],'k3':['shri','adu']}\n",
    "D"
   ]
  },
  {
   "cell_type": "code",
   "execution_count": 113,
   "id": "466994ea-271a-4937-8d47-a37eb894489a",
   "metadata": {},
   "outputs": [
    {
     "data": {
      "text/plain": [
       "3"
      ]
     },
     "execution_count": 113,
     "metadata": {},
     "output_type": "execute_result"
    }
   ],
   "source": [
    "D['k2'][2]"
   ]
  },
  {
   "cell_type": "code",
   "execution_count": 126,
   "id": "63fcca2b-17c8-4359-92d7-e7c487910a3a",
   "metadata": {},
   "outputs": [
    {
     "data": {
      "text/plain": [
       "'SHRI'"
      ]
     },
     "execution_count": 126,
     "metadata": {},
     "output_type": "execute_result"
    }
   ],
   "source": [
    "D['k3'][0].upper()"
   ]
  },
  {
   "cell_type": "code",
   "execution_count": 140,
   "id": "89dd8558-1d03-4cec-811c-d457806265e0",
   "metadata": {},
   "outputs": [
    {
     "data": {
      "text/plain": [
       "{'k1': 123, 'k2': [1, 2, 3], 'k3': ['shri', 'adu']}"
      ]
     },
     "execution_count": 140,
     "metadata": {},
     "output_type": "execute_result"
    }
   ],
   "source": [
    "D['k1']= D['k1'] - 456\n",
    "D"
   ]
  },
  {
   "cell_type": "code",
   "execution_count": 142,
   "id": "3d41f488-8c58-4a33-92ef-900cec2f71a9",
   "metadata": {},
   "outputs": [
    {
     "data": {
      "text/plain": [
       "(1, 2, 3, 4, 'AZ', 'ABS')"
      ]
     },
     "execution_count": 142,
     "metadata": {},
     "output_type": "execute_result"
    }
   ],
   "source": [
    "T=(1,2,3,4,'AZ','ABS')\n",
    "T"
   ]
  },
  {
   "cell_type": "code",
   "execution_count": 144,
   "id": "fa1af40e-f0ba-4469-ab69-79533a76ed48",
   "metadata": {},
   "outputs": [
    {
     "data": {
      "text/plain": [
       "6"
      ]
     },
     "execution_count": 144,
     "metadata": {},
     "output_type": "execute_result"
    }
   ],
   "source": [
    "len(T)"
   ]
  },
  {
   "cell_type": "code",
   "execution_count": 146,
   "id": "299a56ce-6b2d-45e6-a924-9bc9dfb21d56",
   "metadata": {},
   "outputs": [
    {
     "data": {
      "text/plain": [
       "'ABS'"
      ]
     },
     "execution_count": 146,
     "metadata": {},
     "output_type": "execute_result"
    }
   ],
   "source": [
    "T[-1]"
   ]
  },
  {
   "cell_type": "code",
   "execution_count": 148,
   "id": "9eb4b7a5-66af-44bb-8ccc-c41f52678a44",
   "metadata": {},
   "outputs": [
    {
     "ename": "TypeError",
     "evalue": "'tuple' object does not support item assignment",
     "output_type": "error",
     "traceback": [
      "\u001b[1;31m---------------------------------------------------------------------------\u001b[0m",
      "\u001b[1;31mTypeError\u001b[0m                                 Traceback (most recent call last)",
      "Cell \u001b[1;32mIn[148], line 1\u001b[0m\n\u001b[1;32m----> 1\u001b[0m T[\u001b[38;5;241m2\u001b[39m]\u001b[38;5;241m=\u001b[39m\u001b[38;5;124m'\u001b[39m\u001b[38;5;124mChange\u001b[39m\u001b[38;5;124m'\u001b[39m\n",
      "\u001b[1;31mTypeError\u001b[0m: 'tuple' object does not support item assignment"
     ]
    }
   ],
   "source": [
    "T[2]='Change'"
   ]
  },
  {
   "cell_type": "code",
   "execution_count": 164,
   "id": "58a9d885-2933-4e06-9ea6-380fc125dde9",
   "metadata": {},
   "outputs": [
    {
     "data": {
      "text/plain": [
       "{1, 2, 3, 4}"
      ]
     },
     "execution_count": 164,
     "metadata": {},
     "output_type": "execute_result"
    }
   ],
   "source": [
    "s={1, 2, 3, 4}\n",
    "s"
   ]
  },
  {
   "cell_type": "code",
   "execution_count": 152,
   "id": "cf62c804-7741-4bcc-9a31-a429851d8c67",
   "metadata": {},
   "outputs": [
    {
     "data": {
      "text/plain": [
       "{1, 2, 3}"
      ]
     },
     "execution_count": 152,
     "metadata": {},
     "output_type": "execute_result"
    }
   ],
   "source": [
    "{1,1,1,2,3}"
   ]
  },
  {
   "cell_type": "code",
   "execution_count": 166,
   "id": "7b11fec4-a9ef-4464-b2ea-800bfbfc0a9f",
   "metadata": {},
   "outputs": [
    {
     "data": {
      "text/plain": [
       "set"
      ]
     },
     "execution_count": 166,
     "metadata": {},
     "output_type": "execute_result"
    }
   ],
   "source": [
    "type(s)"
   ]
  },
  {
   "cell_type": "code",
   "execution_count": 172,
   "id": "f870992a-a29e-4e0e-9998-c805f676a658",
   "metadata": {},
   "outputs": [
    {
     "data": {
      "text/plain": [
       "{1, 2, 3, 4, 5}"
      ]
     },
     "execution_count": 172,
     "metadata": {},
     "output_type": "execute_result"
    }
   ],
   "source": [
    "s.add(5)\n",
    "s"
   ]
  },
  {
   "cell_type": "code",
   "execution_count": 174,
   "id": "b85a7109-bcb5-496d-a954-de9b3a7b828d",
   "metadata": {},
   "outputs": [
    {
     "data": {
      "text/plain": [
       "{1, 2, 3, 4, 5}"
      ]
     },
     "execution_count": 174,
     "metadata": {},
     "output_type": "execute_result"
    }
   ],
   "source": [
    "s"
   ]
  },
  {
   "cell_type": "code",
   "execution_count": 176,
   "id": "0bfdadc3-2626-4d06-9093-ea0530515f8f",
   "metadata": {},
   "outputs": [
    {
     "name": "stdout",
     "output_type": "stream",
     "text": [
      "True\n"
     ]
    }
   ],
   "source": [
    "if True:\n",
    "    print(\"True\")"
   ]
  },
  {
   "cell_type": "code",
   "execution_count": 188,
   "id": "df82c9aa-9411-4079-80bf-e5a990a11bfd",
   "metadata": {},
   "outputs": [
    {
     "name": "stdout",
     "output_type": "stream",
     "text": [
      "print X not true\n"
     ]
    }
   ],
   "source": [
    "x=False\n",
    "\n",
    "if x:\n",
    "    print(\"True\")\n",
    "else:\n",
    "    print('print {} not true' .format('X'))"
   ]
  },
  {
   "cell_type": "code",
   "execution_count": 196,
   "id": "541cd256-29a0-4ea8-b5d1-4290520a2db1",
   "metadata": {},
   "outputs": [
    {
     "name": "stdin",
     "output_type": "stream",
     "text": [
      "where are live: AP\n"
     ]
    },
    {
     "name": "stdout",
     "output_type": "stream",
     "text": [
      "Welcome to AP\n"
     ]
    }
   ],
   "source": [
    "loc =input(\"where are live:\")\n",
    "\n",
    "if loc == \"B\":\n",
    "     print(\"Welcome to B\")\n",
    "elif loc ==\"AP\":\n",
    "     print(\"Welcome to AP\")\n",
    "else: \n",
    "     print(\"Where u from?\")"
   ]
  },
  {
   "cell_type": "code",
   "execution_count": null,
   "id": "68e30647-c901-41b6-8865-1f779daa6d1b",
   "metadata": {},
   "outputs": [],
   "source": []
  }
 ],
 "metadata": {
  "kernelspec": {
   "display_name": "Python [conda env:base] *",
   "language": "python",
   "name": "conda-base-py"
  },
  "language_info": {
   "codemirror_mode": {
    "name": "ipython",
    "version": 3
   },
   "file_extension": ".py",
   "mimetype": "text/x-python",
   "name": "python",
   "nbconvert_exporter": "python",
   "pygments_lexer": "ipython3",
   "version": "3.12.7"
  }
 },
 "nbformat": 4,
 "nbformat_minor": 5
}

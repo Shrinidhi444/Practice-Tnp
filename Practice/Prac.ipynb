{
 "cells": [
  {
   "cell_type": "code",
   "execution_count": null,
   "id": "6926bdd8-c369-4461-95d4-b6343c9f3440",
   "metadata": {},
   "outputs": [
    {
     "name": "stdout",
     "output_type": "stream",
     "text": [
      "Welcome to the Number Guessing Game!\n",
      "I'm thinking of a number between 1 and 100.\n",
      "You have 10 attempts to guess correctly.\n"
     ]
    },
    {
     "name": "stdin",
     "output_type": "stream",
     "text": [
      "Enter your guess:  4\n"
     ]
    },
    {
     "name": "stdout",
     "output_type": "stream",
     "text": [
      "Too low! Attempts left: 9\n"
     ]
    }
   ],
   "source": [
    "import random\n",
    "\n",
    "def guess_the_number():\n",
    "    number_to_guess = random.randint(1, 100)\n",
    "    attempts = 10  # Limit the number of attempts\n",
    "\n",
    "    print(\"Welcome to the Number Guessing Game!\")\n",
    "    print(\"I'm thinking of a number between 1 and 100.\")\n",
    "    print(f\"You have {attempts} attempts to guess correctly.\")\n",
    "\n",
    "    while attempts > 0:\n",
    "        try:\n",
    "            guess = int(input(\"Enter your guess: \"))\n",
    "            attempts -= 1\n",
    "\n",
    "            if guess < number_to_guess:\n",
    "                print(f\"Too low! Attempts left: {attempts}\")\n",
    "            elif guess > number_to_guess:\n",
    "                print(f\"Too high! Attempts left: {attempts}\")\n",
    "            else:\n",
    "                print(f\"Congratulations! You guessed the number in {5 - attempts} attempts.\")\n",
    "                break\n",
    "\n",
    "            if attempts == 0:\n",
    "                print(f\"Sorry, you're out of attempts! The number was {number_to_guess}.\")\n",
    "        except ValueError:\n",
    "            print(\"Please enter a valid number.\")\n",
    "\n",
    "guess_the_number()\n"
   ]
  },
  {
   "cell_type": "code",
   "execution_count": null,
   "id": "3b338e31-0619-4e07-90f9-88f522ab29f5",
   "metadata": {},
   "outputs": [],
   "source": []
  }
 ],
 "metadata": {
  "kernelspec": {
   "display_name": "Python [conda env:base] *",
   "language": "python",
   "name": "conda-base-py"
  },
  "language_info": {
   "codemirror_mode": {
    "name": "ipython",
    "version": 3
   },
   "file_extension": ".py",
   "mimetype": "text/x-python",
   "name": "python",
   "nbconvert_exporter": "python",
   "pygments_lexer": "ipython3",
   "version": "3.12.7"
  }
 },
 "nbformat": 4,
 "nbformat_minor": 5
}

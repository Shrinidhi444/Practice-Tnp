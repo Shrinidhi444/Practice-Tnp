{
 "cells": [
  {
   "cell_type": "code",
   "execution_count": 1,
   "id": "8aa537d6-571d-4142-a6bf-d28c351d7593",
   "metadata": {},
   "outputs": [
    {
     "name": "stdout",
     "output_type": "stream",
     "text": [
      "Requirement already satisfied: mysql-connector.python in c:\\users\\shrin\\anaconda3\\lib\\site-packages (9.2.0)\n"
     ]
    }
   ],
   "source": [
    "!pip install mysql-connector.python"
   ]
  },
  {
   "cell_type": "code",
   "execution_count": 5,
   "id": "72d0c32b-dda9-487c-a69b-1542d3972137",
   "metadata": {},
   "outputs": [
    {
     "name": "stdout",
     "output_type": "stream",
     "text": [
      "Requirement already satisfied: pymysql in c:\\users\\shrin\\anaconda3\\lib\\site-packages (1.1.1)\n"
     ]
    }
   ],
   "source": [
    "!pip install pymysql"
   ]
  },
  {
   "cell_type": "code",
   "execution_count": 9,
   "id": "24321957-60b6-4356-8e9d-972ed5d4e3a9",
   "metadata": {},
   "outputs": [
    {
     "name": "stdout",
     "output_type": "stream",
     "text": [
      "<mysql.connector.connection_cext.CMySQLConnection object at 0x000002302C8B2330>\n"
     ]
    }
   ],
   "source": [
    "import mysql.connector\n",
    "\n",
    "db = mysql.connector.connect(\n",
    "    host = \"localhost\",\n",
    "    user = \"root\",\n",
    "    password = \"root\",\n",
    "    port = 3307\n",
    ")\n",
    "\n",
    "print(db)"
   ]
  },
  {
   "cell_type": "code",
   "execution_count": 11,
   "id": "30f7b120-831a-418d-87a8-ae74fc29409c",
   "metadata": {},
   "outputs": [],
   "source": [
    "dbcursor = db.cursor()\n",
    "#exexute databese query\n",
    "dbcursor.execute(\"create database if not exists booklist\")"
   ]
  },
  {
   "cell_type": "code",
   "execution_count": 15,
   "id": "fe08d8ec-f9d5-4b14-baff-db16d9f073db",
   "metadata": {},
   "outputs": [],
   "source": [
    "dbcursor.execute(\"show databases\")"
   ]
  },
  {
   "cell_type": "code",
   "execution_count": 17,
   "id": "4dc164db-0602-4c51-964c-06100ea7b674",
   "metadata": {},
   "outputs": [
    {
     "name": "stdout",
     "output_type": "stream",
     "text": [
      "('assignment_schema',)\n",
      "('booklist',)\n",
      "('countries',)\n",
      "('customer_orders',)\n",
      "('emp',)\n",
      "('hr',)\n",
      "('information_schema',)\n",
      "('mysql',)\n",
      "('performance_schema',)\n",
      "('sys',)\n",
      "('temp_schema',)\n"
     ]
    }
   ],
   "source": [
    "for i in dbcursor:\n",
    "    print(i)"
   ]
  },
  {
   "cell_type": "markdown",
   "id": "a55aecf4-50c8-4997-940f-75bdba253dc6",
   "metadata": {},
   "source": [
    "# Create Table"
   ]
  },
  {
   "cell_type": "code",
   "execution_count": 22,
   "id": "910509b9-0139-4562-abc4-98f8f0ff41db",
   "metadata": {},
   "outputs": [],
   "source": [
    "db = mysql.connector.connect(\n",
    "    host = \"localhost\",\n",
    "    user = \"root\",\n",
    "    password = \"root\",\n",
    "    port = 3307,\n",
    "    database = 'booklist'\n",
    ")\n"
   ]
  },
  {
   "cell_type": "code",
   "execution_count": 26,
   "id": "d4efc10f-36d6-45f0-8f4a-17096fd1cf4d",
   "metadata": {},
   "outputs": [
    {
     "name": "stdout",
     "output_type": "stream",
     "text": [
      "('bookdetail',)\n"
     ]
    }
   ],
   "source": [
    "dbcursor = db.cursor()\n",
    "dbcursor.execute(\"create table if not exists booklist.bookdetail \\\n",
    "(rating int(20),book varchar(40),price decimal(16,2))\")\n",
    "dbcursor.execute(\"show tables\")\n",
    "\n",
    "for i in dbcursor:\n",
    "    print(i)"
   ]
  },
  {
   "cell_type": "code",
   "execution_count": 32,
   "id": "892e4236-4e9a-4855-95dc-c09f14667847",
   "metadata": {},
   "outputs": [],
   "source": [
    "dbcursor.execute(\"insert into bookdetail values(5,'abcd',100)\")"
   ]
  },
  {
   "cell_type": "code",
   "execution_count": 36,
   "id": "2260feba-7782-4051-9bce-5a27170c17e9",
   "metadata": {},
   "outputs": [
    {
     "name": "stdout",
     "output_type": "stream",
     "text": [
      "(4, 'power of subconcious mind', Decimal('99.00'))\n",
      "(3, 'Attitude is Everthing', Decimal('50.00'))\n",
      "(5, 'Rich dad poor dad', Decimal('149.00'))\n",
      "(5, 'abcd', Decimal('100.00'))\n"
     ]
    }
   ],
   "source": [
    "dbcursor.execute(\"select * from bookdetail\")\n",
    "for i in dbcursor:\n",
    "    print(i)"
   ]
  },
  {
   "cell_type": "code",
   "execution_count": null,
   "id": "18c7c973-9283-4f7d-a496-6c306bd36b5e",
   "metadata": {},
   "outputs": [],
   "source": [
    "form = \"Insert into bookdetail(rating,book,price)\\\n",
    "            values (%s,%s,%s)\"\n",
    "data = [(4,\"power of subconcious mind\",99),\n",
    "        (3,\"Attitude is Everthing\",50),\n",
    "        (5,\"Rich dad poor dad\",149)]\n",
    "\n",
    "dbcursor.executemany(form,data)\n",
    "db.commit()"
   ]
  },
  {
   "cell_type": "code",
   "execution_count": 38,
   "id": "1afd94a1-80f2-40b0-9dde-378cb94a759a",
   "metadata": {},
   "outputs": [],
   "source": [
    "dbcursor.execute(\"delete from bookdetail where rating=5\")"
   ]
  },
  {
   "cell_type": "code",
   "execution_count": 40,
   "id": "4af1053b-f299-44ff-9fcb-7c876f087e20",
   "metadata": {},
   "outputs": [],
   "source": [
    "dbcursor.execute(\"update bookdetail set price=5000 where book='abcd'\")"
   ]
  },
  {
   "cell_type": "code",
   "execution_count": 42,
   "id": "0bbfaab7-43aa-42f2-8f43-cbd5102ab010",
   "metadata": {},
   "outputs": [],
   "source": [
    "dbcursor.execute(\"commit\")"
   ]
  },
  {
   "cell_type": "markdown",
   "id": "ab407cb7-4c54-4684-8228-1df575721eeb",
   "metadata": {},
   "source": [
    "# read data from table"
   ]
  },
  {
   "cell_type": "code",
   "execution_count": 45,
   "id": "f31c3bc3-ffdb-4125-a263-7e3445be6122",
   "metadata": {},
   "outputs": [
    {
     "name": "stdout",
     "output_type": "stream",
     "text": [
      "('power of subconcious mind',)\n",
      "('Attitude is Everthing',)\n"
     ]
    }
   ],
   "source": [
    "dbcursor = db.cursor()\n",
    "dbcursor.execute(\"select book from bookdetail\")\n",
    "result = dbcursor.fetchall()\n",
    "for i in result:\n",
    "    print(i)"
   ]
  },
  {
   "cell_type": "code",
   "execution_count": null,
   "id": "d5a6ed4c-5a8b-48f4-97ac-3093e3ee424e",
   "metadata": {},
   "outputs": [],
   "source": []
  }
 ],
 "metadata": {
  "kernelspec": {
   "display_name": "Python [conda env:base] *",
   "language": "python",
   "name": "conda-base-py"
  },
  "language_info": {
   "codemirror_mode": {
    "name": "ipython",
    "version": 3
   },
   "file_extension": ".py",
   "mimetype": "text/x-python",
   "name": "python",
   "nbconvert_exporter": "python",
   "pygments_lexer": "ipython3",
   "version": "3.12.7"
  }
 },
 "nbformat": 4,
 "nbformat_minor": 5
}

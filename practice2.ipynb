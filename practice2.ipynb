{
 "cells": [
  {
   "cell_type": "code",
   "execution_count": 15,
   "id": "6b7ce0c1-a414-4b64-a1fb-0d24b88f0d22",
   "metadata": {},
   "outputs": [
    {
     "name": "stdin",
     "output_type": "stream",
     "text": [
      "Enter number1: 20\n",
      "Enter number2: 30\n",
      "Enter number3: 50\n"
     ]
    },
    {
     "name": "stdout",
     "output_type": "stream",
     "text": [
      "50 Is Grester\n"
     ]
    }
   ],
   "source": [
    "a=int(input(\"Enter number1:\"))\n",
    "b=int(input(\"Enter number2:\"))\n",
    "c=int(input(\"Enter number3:\"))\n",
    "\n",
    "if(a>b):\n",
    "    print(f\"{a} Is Greater\")\n",
    "elif(b>c):\n",
    "    print(f\"{b} Is Greater\")\n",
    "else:\n",
    "    print(f\"{c} Is Grester\")\n",
    "    "
   ]
  },
  {
   "cell_type": "code",
   "execution_count": 33,
   "id": "ed8aa771-0418-41df-ae11-aaebbdadbb9b",
   "metadata": {},
   "outputs": [
    {
     "name": "stdin",
     "output_type": "stream",
     "text": [
      "Enter the count of units: 3550\n"
     ]
    },
    {
     "name": "stdout",
     "output_type": "stream",
     "text": [
      "43600\n"
     ]
    }
   ],
   "source": [
    "n=int(input(\"Enter the count of units:\"))\n",
    "cost=0\n",
    "r=n\n",
    "if(n<=200):\n",
    "    cost=0\n",
    "else:\n",
    "    r=r-200\n",
    "    if r>=300:\n",
    "        cost=cost+(300*8)\n",
    "        r=r-300\n",
    "        if r>=500:\n",
    "            cost=cost+(500*11)\n",
    "            r=r-500\n",
    "            if r>0:\n",
    "                cost=cost+(r*14)\n",
    "        else:\n",
    "            cost=cost+(r*11)\n",
    "    else:\n",
    "        cost=cost+(r*8)\n",
    "print(cost)\n",
    "    "
   ]
  },
  {
   "cell_type": "code",
   "execution_count": 37,
   "id": "88efd5ff-08e9-4ae5-941d-3e2ab11404d2",
   "metadata": {},
   "outputs": [
    {
     "name": "stdin",
     "output_type": "stream",
     "text": [
      "Enter Total amount: 4500000\n",
      "Enter savings: 150000\n"
     ]
    },
    {
     "name": "stdout",
     "output_type": "stream",
     "text": [
      "985000.0\n"
     ]
    }
   ],
   "source": [
    "income=int(input(\"Enter Total amount:\"))\n",
    "savings=int(input(\"Enter savings:\"))\n",
    "tax=0\n",
    "\n",
    "if savings<200000:\n",
    "    income=income-savings\n",
    "else:\n",
    "    income=income-200000\n",
    "r=income\n",
    "if income<=1000000:\n",
    "    tax=tax+((10*income)/100)\n",
    "else:\n",
    "    income=income-1000000\n",
    "    tax=tax+((10*1000000)/100)\n",
    "    if income>=1200000:\n",
    "        tax=tax+((20*1200000)/100)\n",
    "        income=income-1200000\n",
    "        tax=tax+((30*income)/100)\n",
    "print(tax)       "
   ]
  },
  {
   "cell_type": "code",
   "execution_count": 55,
   "id": "84f42b30-dca7-4c41-bc70-69c52d69fa33",
   "metadata": {},
   "outputs": [
    {
     "name": "stdin",
     "output_type": "stream",
     "text": [
      "Enter the amount: 6500000\n"
     ]
    },
    {
     "name": "stdout",
     "output_type": "stream",
     "text": [
      "1525000.0\n"
     ]
    }
   ],
   "source": [
    "Amount=int(input(\"Enter the amount:\"))\n",
    "interest=0\n",
    "if Amount<=1000000:\n",
    "    interest=interest+((10*Amount)/100)\n",
    "else:\n",
    "    Amount=Amount-1000000\n",
    "    interest=interest+((10*1000000)/100)\n",
    "    if Amount>1500000:\n",
    "        Amount=Amount-1500000\n",
    "        interest=interest+((15*1500000)/100)\n",
    "        interest=interest+((30*Amount)/100)\n",
    "print(interest)     \n"
   ]
  },
  {
   "cell_type": "code",
   "execution_count": 57,
   "id": "0eac1752-e06b-4653-9506-ea19bd77784a",
   "metadata": {},
   "outputs": [
    {
     "name": "stdin",
     "output_type": "stream",
     "text": [
      "Enter no: 4\n"
     ]
    },
    {
     "name": "stdout",
     "output_type": "stream",
     "text": [
      "Even\n"
     ]
    }
   ],
   "source": [
    "n=int(input(\"Enter no:\"))\n",
    "\n",
    "if n%2==0:\n",
    "    print(\"Even\")\n",
    "else:\n",
    "    print(\"odd\")"
   ]
  },
  {
   "cell_type": "code",
   "execution_count": 95,
   "id": "afca95ba-5a10-4ef4-9c54-db467e68bf2b",
   "metadata": {},
   "outputs": [
    {
     "name": "stdin",
     "output_type": "stream",
     "text": [
      "Enter no: 67\n"
     ]
    },
    {
     "name": "stdout",
     "output_type": "stream",
     "text": [
      "prime\n"
     ]
    }
   ],
   "source": [
    "n=int(input(\"Enter no:\"))\n",
    "flag=0\n",
    "if(n==1 and n==0):\n",
    "    flag=1\n",
    "for i in range(2,n):\n",
    "    if(n%i==0):\n",
    "        flag=1\n",
    "if(flag==1):\n",
    " print(\"not prime\")\n",
    "else:\n",
    " print(\"prime\")\n"
   ]
  },
  {
   "cell_type": "code",
   "execution_count": 103,
   "id": "ea7eedd8-f5d6-4908-a990-a6555acbd74e",
   "metadata": {},
   "outputs": [
    {
     "name": "stdin",
     "output_type": "stream",
     "text": [
      "Enter no 5\n"
     ]
    },
    {
     "name": "stdout",
     "output_type": "stream",
     "text": [
      "120\n"
     ]
    }
   ],
   "source": [
    "n=int(input(\"Enter no\"))\n",
    "fact=1\n",
    "if(n==1 and n==0):\n",
    "   fact=1\n",
    "for i in range(2,n+1):\n",
    "    fact=fact*i\n",
    "print(fact)"
   ]
  },
  {
   "cell_type": "code",
   "execution_count": 105,
   "id": "cfc891df-fd60-45a7-9503-ea166fc5823f",
   "metadata": {},
   "outputs": [
    {
     "name": "stdin",
     "output_type": "stream",
     "text": [
      "Enter no: 5\n"
     ]
    },
    {
     "name": "stdout",
     "output_type": "stream",
     "text": [
      "0\n",
      "1\n",
      "1\n",
      "2\n",
      "3\n",
      "5\n"
     ]
    }
   ],
   "source": [
    "n=int(input(\"Enter no:\"))\n",
    "a=0\n",
    "print(a)\n",
    "b=1\n",
    "print(b)\n",
    "for i in range(2,n+1):\n",
    "    c=a+b\n",
    "    print(c)\n",
    "    a=b\n",
    "    b=c\n"
   ]
  },
  {
   "cell_type": "code",
   "execution_count": 107,
   "id": "81085d2c-9c9f-4bd4-91cb-377ba9e40227",
   "metadata": {},
   "outputs": [
    {
     "data": {
      "text/plain": [
       "[1, 2, 3, 4, 6, 7, 7, 9]"
      ]
     },
     "execution_count": 107,
     "metadata": {},
     "output_type": "execute_result"
    }
   ],
   "source": [
    "List=[3,6,7,9,4,7,2,1]\n",
    "List.sort()\n",
    "List"
   ]
  },
  {
   "cell_type": "code",
   "execution_count": 109,
   "id": "e97c28b4-b6da-45df-a3ab-10a8210ef023",
   "metadata": {},
   "outputs": [],
   "source": [
    "List.sort(reverse=True)"
   ]
  },
  {
   "cell_type": "code",
   "execution_count": 111,
   "id": "173c226a-c466-4bf9-8827-281e40afaec6",
   "metadata": {},
   "outputs": [
    {
     "data": {
      "text/plain": [
       "[9, 7, 7, 6, 4, 3, 2, 1]"
      ]
     },
     "execution_count": 111,
     "metadata": {},
     "output_type": "execute_result"
    }
   ],
   "source": [
    "List"
   ]
  },
  {
   "cell_type": "code",
   "execution_count": 143,
   "id": "d647ca29-6dd0-4661-8471-277fde5d24f8",
   "metadata": {},
   "outputs": [],
   "source": [
    "Str=\"Walchand institute of technology solapur\""
   ]
  },
  {
   "cell_type": "code",
   "execution_count": 147,
   "id": "d0ac7afb-a334-481c-953d-efe480147607",
   "metadata": {},
   "outputs": [
    {
     "name": "stdout",
     "output_type": "stream",
     "text": [
      "rupalos ygolonhcet fo etutitsni dnahclaW\n"
     ]
    }
   ],
   "source": [
    "print(Str[::-1])"
   ]
  },
  {
   "cell_type": "code",
   "execution_count": 155,
   "id": "adaa394b-0c0b-4f2a-a2a3-31d8bc1a74f5",
   "metadata": {},
   "outputs": [
    {
     "name": "stdout",
     "output_type": "stream",
     "text": [
      "Wlhn nttt ftcnlg oau\n"
     ]
    }
   ],
   "source": [
    "print(Str[0::2])"
   ]
  },
  {
   "cell_type": "code",
   "execution_count": 159,
   "id": "169646df-586c-41a6-babb-c47c5bc3abde",
   "metadata": {},
   "outputs": [
    {
     "name": "stdout",
     "output_type": "stream",
     "text": [
      "acadisiueo ehooyslpr\n"
     ]
    }
   ],
   "source": [
    "print(Str[1::2])"
   ]
  },
  {
   "cell_type": "code",
   "execution_count": 163,
   "id": "68d7a4d5-092d-4370-a3cf-ee7606b01e6d",
   "metadata": {},
   "outputs": [
    {
     "name": "stdout",
     "output_type": "stream",
     "text": [
      "['Walchand', 'institute', 'of', 'technology', 'solapur']\n"
     ]
    }
   ],
   "source": [
    "print(Str.split())"
   ]
  },
  {
   "cell_type": "code",
   "execution_count": 183,
   "id": "129a359c-8cba-40f7-a0ba-0141a26a5f21",
   "metadata": {},
   "outputs": [
    {
     "name": "stdout",
     "output_type": "stream",
     "text": [
      "Number of characters: 40\n"
     ]
    }
   ],
   "source": [
    "Count =0 \n",
    "for i in Str:\n",
    "    Count += 1\n",
    "\n",
    "print(\"Number of characters:\",Count)"
   ]
  },
  {
   "cell_type": "code",
   "execution_count": 185,
   "id": "71f727ea-a5c1-4e44-9c4d-6ebeb42285c8",
   "metadata": {},
   "outputs": [
    {
     "name": "stdout",
     "output_type": "stream",
     "text": [
      "13\n"
     ]
    }
   ],
   "source": [
    "c=0\n",
    "for i in Str:\n",
    "    if i=='a' or i=='e' or i=='o'or i=='i'or i=='u'or i=='A'or i=='E'or i=='I'or i=='O'or i=='U':\n",
    "        c=c+1\n",
    "print(c)"
   ]
  },
  {
   "cell_type": "code",
   "execution_count": 5,
   "id": "9dd4640b-32cc-48cc-96cb-16e681f7bda4",
   "metadata": {},
   "outputs": [
    {
     "name": "stdout",
     "output_type": "stream",
     "text": [
      "[1, 1, 2, 3, 4, 5, 5, 6, 9]\n"
     ]
    }
   ],
   "source": [
    "Mlist = [3, 1, 4, 1, 5, 9, 2, 6, 5]\n",
    "\n",
    "n = len(Mlist)\n",
    "for i in range(n):\n",
    "    for j in range(0, n-i-1):\n",
    "        if Mlist[j] > Mlist[j+1]:\n",
    "            Mlist[j], Mlist[j+1] = Mlist[j+1], Mlist[j]\n",
    "\n",
    "print(Mlist)"
   ]
  },
  {
   "cell_type": "code",
   "execution_count": 13,
   "id": "3be6ad8f-dc80-460f-be1d-01fb73e3e714",
   "metadata": {},
   "outputs": [
    {
     "name": "stdout",
     "output_type": "stream",
     "text": [
      "[9, 6, 5, 5, 4, 3, 2, 1, 1]\n"
     ]
    }
   ],
   "source": [
    "n=len(Mlist)\n",
    "for i in range(n):\n",
    "    for j in range(0,n-i-1):\n",
    "        if Mlist[j] < Mlist[j+1]:\n",
    "            Mlist[j], Mlist[j+1] = Mlist[j+1], Mlist[j]\n",
    "\n",
    "print(Mlist)"
   ]
  },
  {
   "cell_type": "code",
   "execution_count": 15,
   "id": "ec729f38-07e7-425a-ba92-e3bf4bff5934",
   "metadata": {},
   "outputs": [],
   "source": [
    "S=\"Walchand Institute of Technology,Solapur,Maharashtra\""
   ]
  },
  {
   "cell_type": "code",
   "execution_count": 21,
   "id": "fa3a3c64-7bd7-4dca-ad14-2b7d9f315358",
   "metadata": {},
   "outputs": [
    {
     "name": "stdout",
     "output_type": "stream",
     "text": [
      "arthsarahaM,rupaloS,ygolonhceT fo etutitsnI dnahclaW\n"
     ]
    }
   ],
   "source": [
    "#Reversed\n",
    "Reversed_S = \"\"\n",
    "\n",
    "for char in S:\n",
    "    Reversed_S = char + Reversed_S\n",
    "\n",
    "print(Reversed_S)"
   ]
  },
  {
   "cell_type": "code",
   "execution_count": 5,
   "id": "04c433ab-28d0-4e37-ace8-a5f46e6f2646",
   "metadata": {},
   "outputs": [
    {
     "name": "stdout",
     "output_type": "stream",
     "text": [
      "['Hello', 'World!', 'This', 'is', 'Python.']\n"
     ]
    }
   ],
   "source": [
    "S1 = \"Hello World! This is Python.\"\n",
    "delimiter = \" \"\n",
    "result = []\n",
    "current_word = \"\"\n",
    "\n",
    "for char in S1:\n",
    "    if char == delimiter:\n",
    "        result.append(current_word)\n",
    "        current_word = \"\"\n",
    "    else:\n",
    "        current_word += char\n",
    "\n",
    "if current_word:\n",
    "    result.append(current_word)\n",
    "\n",
    "print(result)"
   ]
  },
  {
   "cell_type": "code",
   "execution_count": null,
   "id": "27c7b6d9-3f39-4e84-93fb-5bbacd208daa",
   "metadata": {},
   "outputs": [],
   "source": []
  }
 ],
 "metadata": {
  "kernelspec": {
   "display_name": "Python [conda env:base] *",
   "language": "python",
   "name": "conda-base-py"
  },
  "language_info": {
   "codemirror_mode": {
    "name": "ipython",
    "version": 3
   },
   "file_extension": ".py",
   "mimetype": "text/x-python",
   "name": "python",
   "nbconvert_exporter": "python",
   "pygments_lexer": "ipython3",
   "version": "3.12.7"
  }
 },
 "nbformat": 4,
 "nbformat_minor": 5
}
